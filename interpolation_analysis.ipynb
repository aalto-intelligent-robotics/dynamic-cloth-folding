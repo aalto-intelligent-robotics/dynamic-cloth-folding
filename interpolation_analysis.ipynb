{
 "cells": [
  {
   "cell_type": "code",
   "execution_count": 2,
   "metadata": {},
   "outputs": [],
   "source": [
    "import numpy as np\n",
    "import matplotlib.pyplot as plt"
   ]
  },
  {
   "cell_type": "code",
   "execution_count": 7,
   "metadata": {},
   "outputs": [
    {
     "data": {
      "text/plain": [
       "[<matplotlib.lines.Line2D at 0x7fe5b7c4c8e0>]"
      ]
     },
     "execution_count": 7,
     "metadata": {},
     "output_type": "execute_result"
    },
    {
     "data": {
      "image/png": "[encoded data removed]",
      "text/plain": [
       "<Figure size 432x288 with 1 Axes>"
      ]
     },
     "metadata": {
      "needs_background": "light"
     },
     "output_type": "display_data"
    }
   ],
   "source": [
    "C = 1\n",
    "C_t = 10\n",
    "f = 0.03\n",
    "\n",
    "CS = [C]\n",
    "\n",
    "for _ in range(100):\n",
    "    #filter_params * position_d_target_ + (1.0 - filter_params) * position_d_;\n",
    "    C_n = C_t*f + (1-f)*C\n",
    "    CS.append(C_n)\n",
    "    C = C_n\n",
    "plt.plot(CS)\n",
    "\n",
    "C = 1\n",
    "C_t = 10\n",
    "f = 0.03\n",
    "CS = [C]\n",
    "XS = [0]\n",
    "for i in range(100):\n",
    "    #filter_params * position_d_target_ + (1.0 - filter_params) * position_d_\n",
    "    C_n = C_t*f + (1-f)*C\n",
    "    if i % 10 == 0:\n",
    "        CS.append(C_n)\n",
    "        XS.append(i)\n",
    "    C = C_n\n",
    "plt.plot(XS,CS)"
   ]
  },
  {
   "cell_type": "code",
   "execution_count": null,
   "metadata": {},
   "outputs": [],
   "source": []
  }
 ],
 "metadata": {
  "kernelspec": {
   "display_name": "Python 3",
   "language": "python",
   "name": "python3"
  },
  "language_info": {
   "codemirror_mode": {
    "name": "ipython",
    "version": 3
   },
   "file_extension": ".py",
   "mimetype": "text/x-python",
   "name": "python",
   "nbconvert_exporter": "python",
   "pygments_lexer": "ipython3",
   "version": "3.8.5"
  },
  "varInspector": {
   "cols": {
    "lenName": 16,
    "lenType": 16,
    "lenVar": 40
   },
   "kernels_config": {
    "python": {
     "delete_cmd_postfix": "",
     "delete_cmd_prefix": "del ",
     "library": "var_list.py",
     "varRefreshCmd": "print(var_dic_list())"
    },
    "r": {
     "delete_cmd_postfix": ") ",
     "delete_cmd_prefix": "rm(",
     "library": "var_list.r",
     "varRefreshCmd": "cat(var_dic_list()) "
    }
   },
   "types_to_exclude": [
    "module",
    "function",
    "builtin_function_or_method",
    "instance",
    "_Feature"
   ],
   "window_display": false
  }
 },
 "nbformat": 4,
 "nbformat_minor": 4
}
