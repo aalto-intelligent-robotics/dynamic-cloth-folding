{
 "cells": [
  {
   "cell_type": "code",
   "execution_count": 7,
   "metadata": {},
   "outputs": [],
   "source": [
    "import numpy as np\n",
    "import pandas as pd\n",
    "import matplotlib.pyplot as plt\n",
    "from scipy.stats import mannwhitneyu\n",
    "import scipy.stats as stats\n",
    "import os\n",
    "\n",
    "\n",
    "import matplotlib\n",
    "from matplotlib import rcParams\n",
    "matplotlib.use('Agg')\n",
    "plt.style.use('seaborn-white')\n",
    "rcParams['figure.figsize'] = 11.7, 8.27\n",
    "rcParams['figure.figsize'] = 6, 6\n",
    "rcParams['figure.dpi'] = 600\n",
    "rcParams['figure.subplot.left'] = 0.12\n",
    "rcParams['figure.subplot.right'] = 0.95\n",
    "rcParams['figure.subplot.bottom'] = 0.1\n",
    "rcParams['figure.subplot.top'] = 0.95\n",
    "rcParams['axes.grid'] = False\n",
    "rcParams['grid.linestyle'] = \":\"\n",
    "rcParams['xtick.major.bottom'] = True\n",
    "rcParams['xtick.bottom'] = True\n",
    "rcParams['ytick.left'] = True\n",
    "rcParams['ytick.minor.visible'] = True\n",
    "rcParams['ytick.minor.size'] = 0.05\n",
    "rcParams['ytick.minor.width'] = 0.04\n",
    "rcParams['ytick.major.left'] = True\n",
    "# Font\n",
    "# rcParams['font.family'] = \"serif\"\n",
    "# rcParams['font.style'] = \"normal\"\n",
    "rcParams['text.usetex'] = True\n",
    "rcParams['ps.fonttype'] = 42\n",
    "# Lines\n",
    "rcParams['lines.linewidth'] = 3\n",
    "rcParams['lines.markersize'] = 6\n",
    "\n",
    "font_value = 24  # Use 50 for the variance plots\n",
    "font_value = 50  # Use 50 for the variance plots\n",
    "rcParams['font.size'] = font_value\n",
    "# Set specific values for the font relative to font.size\n",
    "# ## small, medium, large, x-large, xx-large, larger, or smaller\n",
    "rcParams['axes.titleweight'] = \"bold\"\n",
    "# rcParams['axes.labelsize'] = \"xx-large\"\n",
    "# rcParams['legend.fontsize'] = \"xx-large\"\n",
    "rcParams['legend.title_fontsize'] = 100\n"
   ]
  },
  {
   "cell_type": "code",
   "execution_count": 8,
   "metadata": {
    "scrolled": false
   },
   "outputs": [
    {
     "data": {
      "text/plain": [
       "'\\nsuffixes = [\"demo\", \"fixed\", \"norand\", \"rand\"]\\ncloth_types = [\"orange\", \"white\", \"blue\"]\\ndfs = {key: pd.read_csv(f\"Results - {key}.csv\") for key in suffixes}\\nrewards = {}\\nfor suffix in suffixes:\\n    rewards[suffix] = {}\\n    for cloth_type in cloth_types:\\n        print(suffix, cloth_type)\\n        rewards[suffix][cloth_type] = dfs[suffix][f\"{cloth_type}-{0}\"] + dfs[suffix][f\"{cloth_type}-{1}\"]\\n        rand_rewards = dfs[\"rand\"][f\"{cloth_type}-{0}\"] + dfs[\"rand\"][f\"{cloth_type}-{1}\"]\\n        \\n        U1_exact_1, p_exact_1 = mannwhitneyu(rand_rewards, rewards[suffix][cloth_type], method=\"exact\")\\n        U1_exact_2, p_exact_2 = mannwhitneyu(rewards[suffix][cloth_type], rand_rewards, method=\"exact\")\\n        U1_asymp_1, p_asymp_1 = mannwhitneyu(rand_rewards, rewards[suffix][cloth_type], method=\"asymptotic\")\\n        U1_asymp_2, p_asymp_2 = mannwhitneyu(rewards[suffix][cloth_type], rand_rewards, method=\"asymptotic\")\\n        print(\"exact ps\", p_exact_1, p_exact_2, p_exact_1 > 0.05, p_exact_2 > 0.05, \"vs rand\", cloth_type)\\n        print(\"exact Us\", U1_exact_1, U1_exact_2)\\n        print(\"asymp ps\", p_asymp_1, p_asymp_2, p_asymp_1 > 0.05, p_asymp_2 > 0.05, \"vs rand\", cloth_type)\\n        print(\"asymp Us\", U1_asymp_1, U1_asymp_2)\\n        print(\"mean\",np.round(rewards[suffix][cloth_type].mean(), decimals=1))\\n        print(\"std\", np.round(rewards[suffix][cloth_type].std(), decimals=1))\\n        print(\"median\", np.round(rewards[suffix][cloth_type].median(), decimals=1))\\n        print(\"\\n\")\\n'"
      ]
     },
     "execution_count": 8,
     "metadata": {},
     "output_type": "execute_result"
    }
   ],
   "source": [
    "'''\n",
    "suffixes = [\"demo\", \"fixed\", \"norand\", \"rand\"]\n",
    "cloth_types = [\"orange\", \"white\", \"blue\"]\n",
    "dfs = {key: pd.read_csv(f\"Results - {key}.csv\") for key in suffixes}\n",
    "rewards = {}\n",
    "for suffix in suffixes:\n",
    "    rewards[suffix] = {}\n",
    "    for cloth_type in cloth_types:\n",
    "        print(suffix, cloth_type)\n",
    "        rewards[suffix][cloth_type] = dfs[suffix][f\"{cloth_type}-{0}\"] + dfs[suffix][f\"{cloth_type}-{1}\"]\n",
    "        rand_rewards = dfs[\"rand\"][f\"{cloth_type}-{0}\"] + dfs[\"rand\"][f\"{cloth_type}-{1}\"]\n",
    "        \n",
    "        U1_exact_1, p_exact_1 = mannwhitneyu(rand_rewards, rewards[suffix][cloth_type], method=\"exact\")\n",
    "        U1_exact_2, p_exact_2 = mannwhitneyu(rewards[suffix][cloth_type], rand_rewards, method=\"exact\")\n",
    "        U1_asymp_1, p_asymp_1 = mannwhitneyu(rand_rewards, rewards[suffix][cloth_type], method=\"asymptotic\")\n",
    "        U1_asymp_2, p_asymp_2 = mannwhitneyu(rewards[suffix][cloth_type], rand_rewards, method=\"asymptotic\")\n",
    "        print(\"exact ps\", p_exact_1, p_exact_2, p_exact_1 > 0.05, p_exact_2 > 0.05, \"vs rand\", cloth_type)\n",
    "        print(\"exact Us\", U1_exact_1, U1_exact_2)\n",
    "        print(\"asymp ps\", p_asymp_1, p_asymp_2, p_asymp_1 > 0.05, p_asymp_2 > 0.05, \"vs rand\", cloth_type)\n",
    "        print(\"asymp Us\", U1_asymp_1, U1_asymp_2)\n",
    "        print(\"mean\",np.round(rewards[suffix][cloth_type].mean(), decimals=1))\n",
    "        print(\"std\", np.round(rewards[suffix][cloth_type].std(), decimals=1))\n",
    "        print(\"median\", np.round(rewards[suffix][cloth_type].median(), decimals=1))\n",
    "        print(\"\\n\")\n",
    "'''"
   ]
  },
  {
   "cell_type": "code",
   "execution_count": 9,
   "metadata": {
    "scrolled": false
   },
   "outputs": [
    {
     "data": {
      "text/plain": [
       "'\\nfor suffix in suffixes:\\n    print(suffix)\\n    fig, axs = plt.subplots(1, 3, figsize=(20,4))\\n    for i in range(1):\\n        for i, cloth_type in enumerate(cloth_types):\\n            label = f\"{suffix}, {cloth_type}, {i}\"\\n            if cloth_type == \"white\":\\n                color = \"lightgray\"\\n            if cloth_type == \"orange\":\\n                color = \"orange\"\\n            if cloth_type == \"blue\":\\n                color = \"lightblue\"\\n            vals = dfs[suffix][f\"{cloth_type}-{0}\"] + dfs[suffix][f\"{cloth_type}-{1}\"]\\n            #print(\"vals sha\", vals)\\n            n, bins, patches = axs[i].hist(vals, 30, density=True)\\n            x = np.linspace(0, 10, 1000)\\n            axs[i].plot(x, stats.norm.pdf(x, vals.mean(), vals.std()))\\n        #plt.xlim([0, 8])\\n        #fig.legend()\\n        #plt.savefig(f\\'{suffix}.pdf\\')\\n        #plt.clf()\\n'"
      ]
     },
     "execution_count": 9,
     "metadata": {},
     "output_type": "execute_result"
    }
   ],
   "source": [
    "'''\n",
    "for suffix in suffixes:\n",
    "    print(suffix)\n",
    "    fig, axs = plt.subplots(1, 3, figsize=(20,4))\n",
    "    for i in range(1):\n",
    "        for i, cloth_type in enumerate(cloth_types):\n",
    "            label = f\"{suffix}, {cloth_type}, {i}\"\n",
    "            if cloth_type == \"white\":\n",
    "                color = \"lightgray\"\n",
    "            if cloth_type == \"orange\":\n",
    "                color = \"orange\"\n",
    "            if cloth_type == \"blue\":\n",
    "                color = \"lightblue\"\n",
    "            vals = dfs[suffix][f\"{cloth_type}-{0}\"] + dfs[suffix][f\"{cloth_type}-{1}\"]\n",
    "            #print(\"vals sha\", vals)\n",
    "            n, bins, patches = axs[i].hist(vals, 30, density=True)\n",
    "            x = np.linspace(0, 10, 1000)\n",
    "            axs[i].plot(x, stats.norm.pdf(x, vals.mean(), vals.std()))\n",
    "        #plt.xlim([0, 8])\n",
    "        #fig.legend()\n",
    "        #plt.savefig(f'{suffix}.pdf')\n",
    "        #plt.clf()\n",
    "'''"
   ]
  },
  {
   "cell_type": "code",
   "execution_count": 23,
   "metadata": {
    "scrolled": false
   },
   "outputs": [],
   "source": [
    "\n",
    "\n",
    "fixed_dfs = [pd.read_csv(os.path.join(\"stats\", \"full\", f, \"progress.csv\")) for f in os.listdir(\"stats/full\") if os.path.isdir(os.path.join(\"stats\", \"full\", f))]\n",
    "single_dfs = [pd.read_csv(os.path.join(\"stats\", \"single\", f, \"progress.csv\")) for f in os.listdir(\"stats/single\") if os.path.isdir(os.path.join(\"stats\", \"single\", f))]\n",
    "multi_dfs = [pd.read_csv(os.path.join(\"stats\", \"multi\", f, \"progress.csv\")) for f in os.listdir(\"stats/multi\") if os.path.isdir(os.path.join(\"stats\", \"multi\", f))]\n",
    "fig, ax1 = plt.subplots(1, 1, figsize=(6,3))\n",
    "titles = [\"Fixed\", \"Ours\", \"Ours+\"]\n",
    "dfs = [fixed_dfs, single_dfs, multi_dfs]\n",
    "for i,df in enumerate(dfs):\n",
    "    stacked = None\n",
    "    for j, d in enumerate(df):\n",
    "        vals = d[\"suite/constant_cloth_success_rate\"][:100]\n",
    "        if stacked is None:\n",
    "            stacked = vals\n",
    "        else:\n",
    "            stacked = np.vstack([stacked,vals])\n",
    "    mean = np.mean(stacked, axis=0)\n",
    "    std = np.std(stacked, axis=0)\n",
    "    ax1.plot(range(1,101), mean, label=titles[i])\n",
    "    ax1.fill_between(range(1,101), mean-std, np.clip(mean+std, 0,1), alpha = 0.3)\n",
    "    ax1.set_xlabel('Epoch', fontsize=15)\n",
    "    ax1.legend()\n",
    "    if i == 0:\n",
    "        ax1.set_ylabel('Success rate')\n",
    "plt.savefig(\"success.pdf\")\n",
    "fig, ax2 = plt.subplots(1, 1, figsize=(6,3))\n",
    "for i,df in enumerate(dfs):\n",
    "    stacked = None\n",
    "    for j, d in enumerate(df):\n",
    "        vals = d[\"suite/constant_cloth_corner_0\"][:100] + d[\"suite/constant_cloth_corner_1\"][:100]\n",
    "        if stacked is None:\n",
    "            stacked = vals\n",
    "        else:\n",
    "            stacked = np.vstack([stacked,vals])\n",
    "    mean = np.mean(stacked, axis=0)\n",
    "    std = np.std(stacked, axis=0)\n",
    "    ax2.plot(range(1,101), mean, label=titles[i])\n",
    "    ax2.fill_between(range(1,101), mean-std, mean+std, alpha = 0.5)\n",
    "    ax2.set_xlabel('Epoch', fontsize=15)\n",
    "    ax2.set_ylim([0.02, 0.4])\n",
    "    ax2.legend()\n",
    "    if i == 0:\n",
    "        ax2.set_ylabel('Corner distance')\n",
    "\n",
    "plt.savefig(\"corners.pdf\")        \n",
    "rcParams['font.size'] = 12\n",
    "fig, (ax3) = plt.subplots(1, 1, figsize=(6,3))\n",
    "for i,df in enumerate(dfs):\n",
    "    stacked = None\n",
    "    for j, d in enumerate(df):\n",
    "        vals = d[\"suite/constant_cloth_corner_0\"][79:100] + d[\"suite/constant_cloth_corner_1\"][79:100]\n",
    "        if stacked is None:\n",
    "            stacked = vals\n",
    "        else:\n",
    "            stacked = np.vstack([stacked,vals])\n",
    "    mean = np.mean(stacked, axis=0)\n",
    "    std = np.std(stacked, axis=0)\n",
    "    ax3.plot(range(80,101), mean, label=titles[i])\n",
    "    ax3.fill_between(range(80,101), mean-std, mean+std, alpha = 0.5)\n",
    "    ax3.set_xlabel('Epoch', fontsize=15)\n",
    "    ax3.set_xticks([80, 85, 90, 95, 100])\n",
    "    ax3.set_ylim([0.01, 0.1])\n",
    "    ax3.legend()\n",
    "    if i == 0:\n",
    "        ax3.set_ylabel('Corner distance (epochs 80-100)')\n",
    "plt.savefig(\"corners_zoomed.pdf\")"
   ]
  },
  {
   "cell_type": "code",
   "execution_count": 16,
   "metadata": {},
   "outputs": [
    {
     "name": "stderr",
     "output_type": "stream",
     "text": [
      "No handles with labels found to put in legend.\n",
      "<ipython-input-16-7e5ed003085f>:21: UserWarning: Matplotlib is currently using agg, which is a non-GUI backend, so cannot show the figure.\n",
      "  plt.show()\n"
     ]
    }
   ],
   "source": [
    "suffixes = [\"demo\", \"fixed\", \"norand\", \"rand\"]\n",
    "rcParams['font.size'] = 18\n",
    "cloth_types = [\"orange\", \"white\", \"blue\"]\n",
    "dfs = {key: pd.read_csv(f\"Results - {key}.csv\") for key in suffixes}\n",
    "green_diamond = dict(markerfacecolor='g', marker='D')\n",
    "fig7, ax7 = plt.subplots(figsize=(15,5))\n",
    "suffs = [\"fixed\", \"ours\", \"ours+\"]\n",
    "\n",
    "ax7.annotate('Orange', xy=(0,0.01))\n",
    "ax7.annotate('White', xy=(1, 0.01))\n",
    "ax7.annotate('Blue', xy=(2, 0.01))\n",
    "for j,cloth_type in enumerate([\"orange\", \"white\", \"blue\"]):\n",
    "    exp_data = []\n",
    "    for i,suffix in enumerate([\"demo\", \"fixed\", \"norand\", \"rand\"]):\n",
    "        d = dfs[suffix][f\"{cloth_type}-{0}\"] + dfs[suffix][f\"{cloth_type}-{1}\"]\n",
    "        exp_data.append(d/100)\n",
    "    ax7.boxplot(exp_data, showmeans=True, whis=[5, 95], flierprops=green_diamond, positions=[-0.2+j,0.0+j,0.2+j, 0.4+j], labels=[\"Demo\", f\"Fixed\", f\"Ours\", f\"Ours+ \"])\n",
    "        \n",
    "#plt.xticks([0.2, 1.2, 2.2, 3.2], suffixes)\n",
    "fig7.legend()\n",
    "plt.show()"
   ]
  },
  {
   "cell_type": "code",
   "execution_count": null,
   "metadata": {},
   "outputs": [],
   "source": []
  },
  {
   "cell_type": "code",
   "execution_count": null,
   "metadata": {},
   "outputs": [],
   "source": []
  },
  {
   "cell_type": "code",
   "execution_count": null,
   "metadata": {},
   "outputs": [],
   "source": []
  },
  {
   "cell_type": "code",
   "execution_count": null,
   "metadata": {},
   "outputs": [],
   "source": []
  },
  {
   "cell_type": "code",
   "execution_count": null,
   "metadata": {},
   "outputs": [],
   "source": []
  }
 ],
 "metadata": {
  "kernelspec": {
   "display_name": "Python 3",
   "language": "python",
   "name": "python3"
  },
  "language_info": {
   "codemirror_mode": {
    "name": "ipython",
    "version": 3
   },
   "file_extension": ".py",
   "mimetype": "text/x-python",
   "name": "python",
   "nbconvert_exporter": "python",
   "pygments_lexer": "ipython3",
   "version": "3.8.5"
  },
  "varInspector": {
   "cols": {
    "lenName": 16,
    "lenType": 16,
    "lenVar": 40
   },
   "kernels_config": {
    "python": {
     "delete_cmd_postfix": "",
     "delete_cmd_prefix": "del ",
     "library": "var_list.py",
     "varRefreshCmd": "print(var_dic_list())"
    },
    "r": {
     "delete_cmd_postfix": ") ",
     "delete_cmd_prefix": "rm(",
     "library": "var_list.r",
     "varRefreshCmd": "cat(var_dic_list()) "
    }
   },
   "types_to_exclude": [
    "module",
    "function",
    "builtin_function_or_method",
    "instance",
    "_Feature"
   ],
   "window_display": false
  }
 },
 "nbformat": 4,
 "nbformat_minor": 4
}
