{
 "cells": [
  {
   "cell_type": "code",
   "execution_count": 1,
   "id": "polished-linux",
   "metadata": {},
   "outputs": [],
   "source": [
    "import numpy as np"
   ]
  },
  {
   "cell_type": "code",
   "execution_count": 2,
   "id": "chronic-climate",
   "metadata": {},
   "outputs": [],
   "source": [
    "traj = [[0.03483627796173096, 0.02799567580223084, 0.034591808915138245, 0.47738194465637207, -0.2664477229118347, 0.4542800188064575] ,\n",
    "[0.03484540700912476, 0.03208357810974121, 0.03480539441108704, 0.4895439147949219, -0.4802556037902832, 0.20225977897644043] ,\n",
    "[0.034778482913970954, 0.02167037021165846, 0.03418138980865479, 0.49354803562164307, -0.48770225048065186, -0.23194724321365356] ,\n",
    "[0.034735549688339244, 0.0, 0.02412304043769839, 0.4946659803390503, -0.49658557772636414, -0.49484384059906006] ,\n",
    "[0.03491138398647309, -0.029795418679714206, -0.034928292334079736, -0.4868762493133545, -0.49889862537384033, -0.4935799837112427] ,\n",
    "[0.019241789638232337, 0.013829200863838195, -0.034916075766086574, -0.4971840977668762, -0.4992491602897644, -0.49719250202178955] ,\n",
    "[-0.009038971066474916, 0.01596621781587601, -0.03486961692571641, -0.4994579553604126, -0.49948224425315857, -0.4990048110485077] ,\n",
    "[-0.034932199716567996, -0.010618091821670533, -0.034548752605915084, -0.49861592054367065, -0.4991757571697235, -0.49829068779945374] ,\n",
    "[-0.0345826256275177, -0.034621296823024755, -0.011999550907514978, -0.25715169310569763, -0.49958470463752747, -0.49698057770729065] ,\n",
    "       ]"
   ]
  },
  {
   "cell_type": "code",
   "execution_count": 5,
   "id": "weighted-antique",
   "metadata": {},
   "outputs": [],
   "source": [
    "traj = np.array(traj)"
   ]
  },
  {
   "cell_type": "code",
   "execution_count": 8,
   "id": "chronic-exchange",
   "metadata": {},
   "outputs": [],
   "source": [
    "np.savetxt(\"raw_deltas_and_velocities_from_policy.csv\",\n",
    "                   traj, delimiter=\",\", fmt='%f')"
   ]
  },
  {
   "cell_type": "raw",
   "id": "prepared-hacker",
   "metadata": {},
   "source": []
  },
  {
   "cell_type": "code",
   "execution_count": null,
   "id": "close-offer",
   "metadata": {},
   "outputs": [],
   "source": []
  }
 ],
 "metadata": {
  "kernelspec": {
   "display_name": "Python 3",
   "language": "python",
   "name": "python3"
  },
  "language_info": {
   "codemirror_mode": {
    "name": "ipython",
    "version": 3
   },
   "file_extension": ".py",
   "mimetype": "text/x-python",
   "name": "python",
   "nbconvert_exporter": "python",
   "pygments_lexer": "ipython3",
   "version": "3.8.5"
  }
 },
 "nbformat": 4,
 "nbformat_minor": 5
}
