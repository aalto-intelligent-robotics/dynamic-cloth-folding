{
 "cells": [
  {
   "cell_type": "code",
   "execution_count": 32,
   "metadata": {},
   "outputs": [
    {
     "name": "stdout",
     "output_type": "stream",
     "text": [
      "No personal conf_private.py found.\n",
      "doodad not detected\n",
      "2020-10-20 12:34:45.050643 EEST | Variant:\n",
      "2020-10-20 12:34:45.050779 EEST | {\n",
      "  \"algorithm\": \"SAC\",\n",
      "  \"layer_size\": 256,\n",
      "  \"replay_buffer_kwargs\": {\n",
      "    \"max_size\": 10000,\n",
      "    \"fraction_goals_env_goals\": 0,\n",
      "    \"fraction_goals_rollout_goals\": 0.19999999999999996\n",
      "  },\n",
      "  \"algorithm_kwargs\": {\n",
      "    \"num_epochs\": 50,\n",
      "    \"num_eval_steps_per_epoch\": 500,\n",
      "    \"min_num_steps_before_training\": 1000,\n",
      "    \"batch_size\": 256,\n",
      "    \"num_trains_per_train_loop\": 100,\n",
      "    \"num_expl_steps_per_train_loop\": 100,\n",
      "    \"num_train_loops_per_epoch\": 100,\n",
      "    \"max_path_length\": 50\n",
      "  },\n",
      "  \"trainer_kwargs\": {\n",
      "    \"discount\": 0.99,\n",
      "    \"soft_target_tau\": 0.005,\n",
      "    \"target_update_period\": 1,\n",
      "    \"policy_lr\": 0.0003,\n",
      "    \"qf_lr\": 0.0003,\n",
      "    \"reward_scale\": 1,\n",
      "    \"use_automatic_entropy_tuning\": true\n",
      "  },\n",
      "  \"env_name\": \"Cloth-v1\",\n",
      "  \"version\": \"her-sac-sideways-strict-no-learn-grasp-randomize\",\n",
      "  \"image_training\": true,\n",
      "  \"env_kwargs\": {\n",
      "    \"learn_grasp\": null,\n",
      "    \"n_actions\": 3,\n",
      "    \"task\": \"diagonal\",\n",
      "    \"pixels\": true\n",
      "  }\n",
      "}\n",
      "Env kwargs {'learn_grasp': None, 'n_actions': 3, 'task': 'diagonal', 'pixels': True}\n",
      "/home/clothmanip/robotics/gym/gym/logger.py:30: UserWarning: \u001b[33mWARN: Box bound precision lowered by casting to float32\u001b[0m\n",
      "  warnings.warn(colorize('%s: %s'%('WARN', msg % args), 'yellow'))\n",
      "Env kwargs {'learn_grasp': None, 'n_actions': 3, 'task': 'diagonal', 'pixels': True}\n",
      "Real sim success -0.0 {'is_success': 1.0}\n",
      "Evaluation sampling\n",
      "Image capture\n",
      "Evaluation done\n",
      "Epoch 0\n",
      "\n",
      " Cycle 0 0\n",
      "Added episode 50\n",
      "Added episode 50\n",
      "Replay buf 1100\n"
     ]
    }
   ],
   "source": [
    "!python sac_sideways.py --run=1 \\\n",
    "--title=her-sac-sideways-strict-no-learn-grasp-randomize \\\n",
    "--train_steps=100 \\\n",
    "--num_epochs=50 \\\n",
    "--her_percent=0.8 \\\n",
    "--env_name=Cloth-v1 \\\n",
    "--task=diagonal \\\n",
    "--image_training=True \\\n",
    "--buffer_size=10000 "
   ]
  },
  {
   "cell_type": "code",
   "execution_count": null,
   "metadata": {},
   "outputs": [],
   "source": []
  }
 ],
 "metadata": {
  "kernelspec": {
   "display_name": "Python 3",
   "language": "python",
   "name": "python3"
  },
  "language_info": {
   "codemirror_mode": {
    "name": "ipython",
    "version": 3
   },
   "file_extension": ".py",
   "mimetype": "text/x-python",
   "name": "python",
   "nbconvert_exporter": "python",
   "pygments_lexer": "ipython3",
   "version": "3.8.3"
  }
 },
 "nbformat": 4,
 "nbformat_minor": 4
}
