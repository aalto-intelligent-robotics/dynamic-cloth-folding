{
 "cells": [
  {
   "cell_type": "code",
   "execution_count": 9,
   "metadata": {},
   "outputs": [
    {
     "name": "stdout",
     "output_type": "stream",
     "text": [
      "['CALLS', 'CUMULATIVE', 'FILENAME', 'LINE', 'NAME', 'NFL', 'PCALLS', 'STDNAME', 'TIME', '__class__', '__doc__', '__members__', '__module__']\n"
     ]
    }
   ],
   "source": [
    "import pstats\n",
    "from pstats import SortKey\n",
    "KEY = SortKey.TIME\n",
    "print(dir(SortKey))\n",
    "stats_file = \"multienv4debug-run-1-stats\""
   ]
  },
  {
   "cell_type": "code",
   "execution_count": 10,
   "metadata": {},
   "outputs": [
    {
     "name": "stdout",
     "output_type": "stream",
     "text": [
      "Tue Dec 29 18:05:26 2020    multienv4debug-run-1-stats\n",
      "\n",
      "         4274961 function calls (4216299 primitive calls) in 292.631 seconds\n",
      "\n",
      "   Ordered by: internal time\n",
      "   List reduced from 1198 to 100 due to restriction <100>\n",
      "\n",
      "   ncalls  tottime  percall  cumtime  percall filename:lineno(function)\n",
      "     2435  257.314    0.106  257.314    0.106 {built-in method posix.read}\n",
      "     8800   12.208    0.001   12.208    0.001 {method 'step' of 'mujoco_py.cymj.MjSim' objects}\n",
      "     4000    4.169    0.001    4.169    0.001 {method 'run_backward' of 'torch._C._EngineBase' objects}\n",
      "    27988    3.079    0.000    3.079    0.000 {built-in method addmm}\n",
      "        1    1.571    1.571    1.571    1.571 /Users/juliushietala/opt/anaconda3/envs/cm_env/lib/python3.9/site-packages/glfw/__init__.py:1173(create_window)\n",
      "    16994    1.498    0.000    1.498    0.000 {built-in method relu}\n",
      "      200    1.367    0.007    1.367    0.007 {method 'read_pixels' of 'mujoco_py.cymj.MjRenderContext' objects}\n",
      "        2    1.340    0.670    1.342    0.671 {mujoco_py.cymj.load_model_from_path}\n",
      "        2    0.884    0.442    3.106    1.553 /Users/juliushietala/robotics/gym/gym/envs/robotics/cloth_robot_env.py:25(__init__)\n",
      "    42000    0.483    0.000    0.483    0.000 {method 'mul_' of 'torch._C._TensorBase' objects}\n",
      "     2000    0.463    0.000    0.849    0.000 /Users/juliushietala/robotics/rlkit/rlkit/torch/pytorch_util.py:25(soft_update_from_to)\n",
      "     4000    0.431    0.000    1.644    0.000 /Users/juliushietala/opt/anaconda3/envs/cm_env/lib/python3.9/site-packages/torch/optim/functional.py:53(adam)\n",
      "   147005    0.356    0.000    0.647    0.000 /Users/juliushietala/opt/anaconda3/envs/cm_env/lib/python3.9/site-packages/torch/tensor.py:933(grad)\n",
      "    42000    0.257    0.000    0.257    0.000 {method 'add_' of 'torch._C._TensorBase' objects}\n",
      "38485/10497    0.242    0.000    6.139    0.001 /Users/juliushietala/opt/anaconda3/envs/cm_env/lib/python3.9/site-packages/torch/nn/modules/module.py:715(_call_impl)\n",
      "    10000    0.234    0.000    0.234    0.000 {built-in method cat}\n",
      "      200    0.221    0.001    0.221    0.001 {imwrite}\n",
      "    27988    0.217    0.000    0.217    0.000 {method 't' of 'torch._C._TensorBase' objects}\n",
      "    21000    0.217    0.000    0.217    0.000 {method 'addcdiv_' of 'torch._C._TensorBase' objects}\n",
      "     2000    0.186    0.000    0.218    0.000 /Users/juliushietala/opt/anaconda3/envs/cm_env/lib/python3.9/site-packages/torch/distributions/normal.py:70(log_prob)\n",
      "   236096    0.163    0.000    0.500    0.000 /Users/juliushietala/opt/anaconda3/envs/cm_env/lib/python3.9/site-packages/torch/overrides.py:1070(has_torch_function)\n",
      "   500180    0.150    0.000    0.188    0.000 /Users/juliushietala/opt/anaconda3/envs/cm_env/lib/python3.9/site-packages/torch/overrides.py:1083(<genexpr>)\n",
      "      200    0.149    0.001    0.149    0.001 {method 'render' of 'mujoco_py.cymj.MjRenderContext' objects}\n",
      "     1000    0.140    0.000    6.968    0.007 /Users/juliushietala/robotics/rlkit/rlkit/torch/sac/sac.py:140(compute_loss)\n",
      "    21000    0.137    0.000    0.137    0.000 {method 'sqrt' of 'torch._C._TensorBase' objects}\n",
      "    27988    0.132    0.000    3.564    0.000 /Users/juliushietala/opt/anaconda3/envs/cm_env/lib/python3.9/site-packages/torch/nn/functional.py:1669(linear)\n",
      "   272878    0.130    0.000    0.324    0.000 {built-in method builtins.any}\n",
      "     2000    0.128    0.000    0.500    0.000 /Users/juliushietala/robotics/rlkit/rlkit/torch/distributions.py:338(_log_prob_from_pre_tanh)\n",
      "     1000    0.122    0.000   14.982    0.015 /Users/juliushietala/robotics/rlkit/rlkit/torch/sac/sac.py:93(train_from_torch)\n",
      "     1000    0.113    0.000    0.783    0.001 /Users/juliushietala/robotics/rlkit/rlkit/data_management/future_obs_dict_replay_buffer.py:179(random_batch)\n",
      "    21000    0.111    0.000    0.111    0.000 {method 'addcmul_' of 'torch._C._TensorBase' objects}\n",
      "    65792    0.111    0.000    0.111    0.000 {built-in method numpy.array}\n",
      "     1000    0.109    0.000    0.109    0.000 /Users/juliushietala/robotics/rlkit/rlkit/data_management/future_obs_dict_replay_buffer.py:278(<dictcomp>)\n",
      "     4000    0.108    0.000    2.121    0.001 /Users/juliushietala/opt/anaconda3/envs/cm_env/lib/python3.9/site-packages/torch/optim/adam.py:55(step)\n",
      "    69103    0.107    0.000    0.253    0.000 /Users/juliushietala/opt/anaconda3/envs/cm_env/lib/python3.9/site-packages/torch/tensor.py:596(__hash__)\n",
      "     1000    0.106    0.000   15.388    0.015 /Users/juliushietala/robotics/rlkit/rlkit/torch/torch_rl_algorithm.py:48(train)\n",
      "       14    0.106    0.008    0.106    0.008 {method 'forward' of 'mujoco_py.cymj.MjSim' objects}\n",
      "     1000    0.106    0.000    0.106    0.000 /Users/juliushietala/robotics/rlkit/rlkit/data_management/future_obs_dict_replay_buffer.py:199(<listcomp>)\n",
      "    20991    0.101    0.000    0.101    0.000 {method 'zero_' of 'torch._C._TensorBase' objects}\n",
      "        1    0.096    0.096  284.923  284.923 /Users/juliushietala/robotics/rlkit/rlkit/core/batch_rl_algorithm.py:45(_train)\n",
      "        2    0.094    0.047    0.094    0.047 /Users/juliushietala/opt/anaconda3/envs/cm_env/lib/python3.9/site-packages/glfw/__init__.py:722(init)\n",
      "     1000    0.094    0.000    0.129    0.000 /Users/juliushietala/robotics/rlkit/rlkit/data_management/future_obs_dict_replay_buffer.py:191(<listcomp>)\n",
      "      202    0.092    0.000    0.092    0.000 /Users/juliushietala/robotics/gym/gym/envs/robotics/utils.py:120(reset_mocap2body_xpos)\n",
      "     1000    0.087    0.000   15.140    0.015 /Users/juliushietala/robotics/rlkit/rlkit/torch/her/cloth/her.py:48(train_from_torch)\n",
      "    18497    0.081    0.000    0.081    0.000 {method 'float' of 'torch._C._TensorBase' objects}\n",
      "    27988    0.076    0.000    3.672    0.000 /Users/juliushietala/opt/anaconda3/envs/cm_env/lib/python3.9/site-packages/torch/nn/modules/linear.py:92(forward)\n",
      "        4    0.066    0.017    0.066    0.017 {method 'recv' of '_socket.socket' objects}\n",
      "     6000    0.065    0.000    4.129    0.001 /Users/juliushietala/robotics/rlkit/rlkit/torch/networks/mlp.py:59(forward)\n",
      "     4732    0.064    0.000    0.064    0.000 {method 'reduce' of 'numpy.ufunc' objects}\n",
      "     2297    0.063    0.000    0.344    0.000 /Users/juliushietala/robotics/rlkit/rlkit/torch/distributions.py:373(rsample_with_pretanh)\n",
      "     1000    0.061    0.000    0.061    0.000 /Users/juliushietala/robotics/rlkit/rlkit/data_management/future_obs_dict_replay_buffer.py:272(<dictcomp>)\n",
      "340337/340283    0.059    0.000    0.059    0.000 {built-in method builtins.len}\n",
      "     4000    0.058    0.000    0.535    0.000 /Users/juliushietala/opt/anaconda3/envs/cm_env/lib/python3.9/site-packages/torch/optim/optimizer.py:167(zero_grad)\n",
      "     4000    0.055    0.000    0.055    0.000 {method 'sum' of 'torch._C._TensorBase' objects}\n",
      "    28023    0.052    0.000    0.304    0.000 /Users/juliushietala/opt/anaconda3/envs/cm_env/lib/python3.9/site-packages/torch/nn/modules/module.py:1055(_named_members)\n",
      "    10497    0.052    0.000    0.052    0.000 {built-in method from_numpy}\n",
      "    67310    0.052    0.000    0.052    0.000 /Users/juliushietala/opt/anaconda3/envs/cm_env/lib/python3.9/site-packages/torch/nn/modules/module.py:765(__getattr__)\n",
      "     2000    0.051    0.000    0.051    0.000 {built-in method torch._C._nn.mse_loss}\n",
      "    12000    0.050    0.000    0.050    0.000 {method 'copy_' of 'torch._C._TensorBase' objects}\n",
      "      400    0.045    0.000    1.713    0.004 /Users/juliushietala/robotics/gym/gym/envs/robotics/cloth_robot_env.py:250(_get_viewer)\n",
      "     2297    0.044    0.000    0.044    0.000 {built-in method normal}\n",
      "44036/20016    0.044    0.000    0.049    0.000 /Users/juliushietala/opt/anaconda3/envs/cm_env/lib/python3.9/site-packages/torch/nn/modules/module.py:1222(named_modules)\n",
      "     2497    0.043    0.000    1.631    0.001 /Users/juliushietala/robotics/rlkit/rlkit/torch/sac/policies/gaussian_policy.py:99(forward)\n",
      "     1215    0.043    0.000    0.043    0.000 {built-in method _pickle.loads}\n",
      "   245685    0.043    0.000    0.043    0.000 {built-in method builtins.getattr}\n",
      "     2000    0.038    0.000    0.038    0.000 {method 'mean' of 'torch._C._TensorBase' objects}\n",
      "     2497    0.036    0.000    0.036    0.000 {built-in method clamp}\n",
      "     1200    0.036    0.000    0.157    0.000 /Users/juliushietala/robotics/gym/gym/envs/robotics/reward_calculation.py:10(reward_function)\n",
      "   236096    0.035    0.000    0.035    0.000 {built-in method torch._C._is_torch_function_enabled}\n",
      "    38485    0.034    0.000    0.034    0.000 {built-in method torch._C._get_tracing_state}\n",
      "     6794    0.034    0.000    0.085    0.000 /Users/juliushietala/opt/anaconda3/envs/cm_env/lib/python3.9/site-packages/torch/functional.py:42(broadcast_tensors)\n",
      "     2498    0.034    0.000    0.034    0.000 {built-in method tanh}\n",
      "      200    0.033    0.000    0.033    0.000 {cvtColor}\n",
      "     4000    0.033    0.000    0.033    0.000 {built-in method ones_like}\n",
      "     2298    0.033    0.000    0.033    0.000 {built-in method zeros}\n",
      "     2497    0.032    0.000    0.032    0.000 {built-in method exp}\n",
      "     4794    0.030    0.000    0.041    0.000 /Users/juliushietala/opt/anaconda3/envs/cm_env/lib/python3.9/site-packages/torch/distributions/independent.py:36(__init__)\n",
      "     6794    0.030    0.000    0.030    0.000 {built-in method broadcast_tensors}\n",
      "16640/11327    0.030    0.000    0.201    0.000 {built-in method numpy.core._multiarray_umath.implement_array_function}\n",
      "    16994    0.029    0.000    1.530    0.000 /Users/juliushietala/opt/anaconda3/envs/cm_env/lib/python3.9/site-packages/torch/nn/functional.py:1124(relu)\n",
      "    10497    0.029    0.000    0.164    0.000 /Users/juliushietala/robotics/rlkit/rlkit/torch/pytorch_util.py:253(from_numpy)\n",
      "     2000    0.027    0.000    0.027    0.000 {built-in method min}\n",
      "     1000    0.026    0.000    0.066    0.000 {method 'randint' of 'numpy.random.mtrand.RandomState' objects}\n",
      "     4000    0.026    0.000    2.197    0.001 /Users/juliushietala/opt/anaconda3/envs/cm_env/lib/python3.9/site-packages/torch/autograd/grad_mode.py:23(decorate_context)\n",
      "     4794    0.026    0.000    0.152    0.000 /Users/juliushietala/opt/anaconda3/envs/cm_env/lib/python3.9/site-packages/torch/distributions/normal.py:43(__init__)\n",
      "     2000    0.025    0.000    0.025    0.000 {built-in method torch._C._nn.softplus}\n",
      "     2400    0.025    0.000    0.056    0.000 /Users/juliushietala/opt/anaconda3/envs/cm_env/lib/python3.9/site-packages/numpy/linalg/linalg.py:2363(norm)\n",
      "     2400    0.025    0.000    0.090    0.000 /Users/juliushietala/robotics/gym/gym/envs/robotics/reward_calculation.py:4(goal_distance)\n",
      "1229/1225    0.023    0.000    0.028    0.000 {method 'dump' of '_pickle.Pickler' objects}\n",
      "     6361    0.023    0.000    0.024    0.000 /Users/juliushietala/opt/anaconda3/envs/cm_env/lib/python3.9/site-packages/torch/autograd/grad_mode.py:80(__init__)\n",
      "     4000    0.022    0.000    0.059    0.000 /Users/juliushietala/opt/anaconda3/envs/cm_env/lib/python3.9/site-packages/torch/autograd/__init__.py:28(_make_grads)\n",
      "     2000    0.022    0.000    0.022    0.000 {method 'log' of 'torch._C._TensorBase' objects}\n",
      "     4594    0.022    0.000    0.022    0.000 {method 'expand' of 'torch._C._TensorBase' objects}\n",
      "   150618    0.022    0.000    0.022    0.000 {built-in method builtins.hasattr}\n",
      "     4000    0.020    0.000    4.272    0.001 /Users/juliushietala/opt/anaconda3/envs/cm_env/lib/python3.9/site-packages/torch/tensor.py:181(backward)\n",
      "     6000    0.020    0.000    4.312    0.001 /Users/juliushietala/robotics/rlkit/rlkit/torch/networks/mlp.py:137(forward)\n",
      "   153942    0.020    0.000    0.020    0.000 {method 'values' of 'collections.OrderedDict' objects}\n",
      "     2297    0.019    0.000    0.113    0.000 /Users/juliushietala/opt/anaconda3/envs/cm_env/lib/python3.9/site-packages/torch/distributions/normal.py:60(sample)\n",
      "        6    0.019    0.003  253.281   42.213 /Users/juliushietala/robotics/rlkit/rlkit/samplers/async_rollout_functions.py:5(vec_env_rollout)\n",
      "     4794    0.019    0.000    0.214    0.000 /Users/juliushietala/robotics/rlkit/rlkit/torch/distributions.py:156(__init__)\n",
      "\n",
      "\n"
     ]
    },
    {
     "data": {
      "text/plain": [
       "<pstats.Stats at 0x7fd629f79f70>"
      ]
     },
     "execution_count": 10,
     "metadata": {},
     "output_type": "execute_result"
    }
   ],
   "source": [
    "p = pstats.Stats(stats_file)\n",
    "p.sort_stats(KEY).print_stats(100)"
   ]
  },
  {
   "cell_type": "code",
   "execution_count": null,
   "metadata": {},
   "outputs": [],
   "source": []
  },
  {
   "cell_type": "code",
   "execution_count": null,
   "metadata": {},
   "outputs": [],
   "source": []
  }
 ],
 "metadata": {
  "kernelspec": {
   "display_name": "Python 3",
   "language": "python",
   "name": "python3"
  },
  "language_info": {
   "codemirror_mode": {
    "name": "ipython",
    "version": 3
   },
   "file_extension": ".py",
   "mimetype": "text/x-python",
   "name": "python",
   "nbconvert_exporter": "python",
   "pygments_lexer": "ipython3",
   "version": "3.9.0"
  }
 },
 "nbformat": 4,
 "nbformat_minor": 4
}
