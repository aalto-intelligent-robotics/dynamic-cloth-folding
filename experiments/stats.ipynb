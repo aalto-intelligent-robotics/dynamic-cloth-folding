{
 "cells": [
  {
   "cell_type": "code",
   "execution_count": 19,
   "metadata": {},
   "outputs": [
    {
     "name": "stdout",
     "output_type": "stream",
     "text": [
      "['CALLS', 'CUMULATIVE', 'FILENAME', 'LINE', 'NAME', 'NFL', 'PCALLS', 'STDNAME', 'TIME', '__class__', '__doc__', '__members__', '__module__']\n"
     ]
    }
   ],
   "source": [
    "import pstats\n",
    "from pstats import SortKey\n",
    "KEY = SortKey.TIME\n",
    "print(dir(SortKey))"
   ]
  },
  {
   "cell_type": "code",
   "execution_count": 20,
   "metadata": {},
   "outputs": [
    {
     "name": "stdout",
     "output_type": "stream",
     "text": [
      "Mon Oct 26 17:33:33 2020    profile-run-run-1-stats\n",
      "\n",
      "         11895064 function calls (11840859 primitive calls) in 59.821 seconds\n",
      "\n",
      "   Ordered by: internal time\n",
      "   List reduced from 902 to 100 due to restriction <100>\n",
      "\n",
      "   ncalls  tottime  percall  cumtime  percall filename:lineno(function)\n",
      "    20800   21.608    0.001   21.608    0.001 {method 'step' of 'mujoco_py.cymj.MjSim' objects}\n",
      "     1000    8.588    0.009    8.588    0.009 /home/clothmanip/robotics/rlkit/rlkit/data_management/obs_dict_replay_buffer.py:333(normalize_image)\n",
      "     8055    6.551    0.001    6.551    0.001 {method 'to' of 'torch._C._TensorBase' objects}\n",
      "    13500    3.143    0.000    3.143    0.000 {method 'float' of 'torch._C._TensorBase' objects}\n",
      "     2000    1.636    0.001    1.636    0.001 {method 'run_backward' of 'torch._C._EngineBase' objects}\n",
      "   645584    1.573    0.000    1.573    0.000 {method 'reduce' of 'numpy.ufunc' objects}\n",
      "   128500    1.526    0.000    7.987    0.000 /home/clothmanip/robotics/gym/gym/envs/robotics/cloth_env.py:40(compute_reward)\n",
      "   516000    1.470    0.000    3.215    0.000 /home/clothmanip/anaconda3/lib/python3.8/site-packages/numpy/linalg/linalg.py:2316(norm)\n",
      "     1502    1.442    0.001    1.442    0.001 {built-in method zeros}\n",
      "   516000    0.713    0.000    4.528    0.000 /home/clothmanip/robotics/gym/gym/envs/robotics/cloth_env.py:13(goal_distance)\n",
      "        2    0.671    0.335    0.672    0.336 {mujoco_py.cymj.load_model_from_path}\n",
      "    18000    0.568    0.000    0.568    0.000 {built-in method addmm}\n",
      "     6004    0.539    0.000    0.539    0.000 {built-in method conv2d}\n",
      "   698658    0.520    0.000    0.520    0.000 {built-in method numpy.array}\n",
      "918325/913299    0.506    0.000    4.803    0.000 {built-in method numpy.core._multiarray_umath.implement_array_function}\n",
      "      500    0.505    0.001   17.746    0.035 /home/clothmanip/robotics/rlkit/rlkit/data_management/obs_dict_replay_buffer.py:184(random_batch)\n",
      "        2    0.431    0.215    1.999    0.999 /home/clothmanip/robotics/gym/gym/envs/robotics/cloth_robot_env.py:22(__init__)\n",
      "     2000    0.365    0.000    1.410    0.001 /home/clothmanip/anaconda3/lib/python3.8/site-packages/torch/optim/adam.py:51(step)\n",
      "    33000    0.320    0.000    0.320    0.000 {method 'mul_' of 'torch._C._TensorBase' objects}\n",
      "      500    0.281    0.001    0.281    0.001 /home/clothmanip/robotics/rlkit/rlkit/data_management/obs_dict_replay_buffer.py:292(<dictcomp>)\n",
      "    33000    0.281    0.000    0.281    0.000 {method 'add_' of 'torch._C._TensorBase' objects}\n",
      "      500    0.280    0.001    0.280    0.001 /home/clothmanip/robotics/rlkit/rlkit/data_management/obs_dict_replay_buffer.py:286(<dictcomp>)\n",
      "    18000    0.259    0.000    0.259    0.000 {built-in method relu}\n",
      "     6500    0.255    0.000    0.255    0.000 {built-in method cat}\n",
      "   516000    0.253    0.000    3.815    0.000 <__array_function__ internals>:2(norm)\n",
      "     1000    0.221    0.000    0.342    0.000 /home/clothmanip/robotics/rlkit/rlkit/torch/pytorch_util.py:25(soft_update_from_to)\n",
      "41504/5504    0.187    0.000    2.552    0.000 /home/clothmanip/anaconda3/lib/python3.8/site-packages/torch/nn/modules/module.py:710(_call_impl)\n",
      "   129530    0.185    0.000    0.536    0.000 /home/clothmanip/anaconda3/lib/python3.8/site-packages/numpy/core/fromnumeric.py:73(_wrapreduction)\n",
      "   259150    0.172    0.000    0.172    0.000 {method 'reshape' of 'numpy.ndarray' objects}\n",
      "      502    0.165    0.000    0.165    0.000 /home/clothmanip/robotics/gym/gym/envs/robotics/utils.py:120(reset_mocap2body_xpos)\n",
      "    16500    0.152    0.000    0.152    0.000 {method 'sqrt' of 'torch._C._TensorBase' objects}\n",
      "      512    0.132    0.000    0.132    0.000 {method 'read_pixels' of 'mujoco_py.cymj.MjRenderContext' objects}\n",
      "      512    0.129    0.000    0.129    0.000 {method 'render' of 'mujoco_py.cymj.MjRenderContext' objects}\n",
      "     1000    0.127    0.000    0.145    0.000 /home/clothmanip/anaconda3/lib/python3.8/site-packages/torch/distributions/normal.py:70(log_prob)\n",
      "    16500    0.125    0.000    0.125    0.000 {method 'addcdiv_' of 'torch._C._TensorBase' objects}\n",
      "        1    0.123    0.123   56.388   56.388 /home/clothmanip/robotics/rlkit/rlkit/core/batch_rl_algorithm.py:50(_train)\n",
      "   258000    0.122    0.000    0.683    0.000 <__array_function__ internals>:2(reshape)\n",
      "   564920    0.117    0.000    0.293    0.000 /home/clothmanip/anaconda3/lib/python3.8/site-packages/numpy/core/_asarray.py:16(asarray)\n",
      "    16500    0.117    0.000    0.117    0.000 {method 'addcmul_' of 'torch._C._TensorBase' objects}\n",
      "   258000    0.116    0.000    0.426    0.000 /home/clothmanip/anaconda3/lib/python3.8/site-packages/numpy/core/fromnumeric.py:202(reshape)\n",
      "   259502    0.110    0.000    0.335    0.000 /home/clothmanip/anaconda3/lib/python3.8/site-packages/numpy/core/fromnumeric.py:55(_wrapfunc)\n",
      "   129032    0.104    0.000    0.104    0.000 {method 'astype' of 'numpy.ndarray' objects}\n",
      "    18000    0.093    0.000    0.093    0.000 {method 't' of 'torch._C._TensorBase' objects}\n",
      "     1024    0.091    0.000    0.092    0.000 /home/clothmanip/robotics/gym/gym/envs/robotics/cloth_robot_env.py:212(_get_viewer)\n",
      "     1000    0.089    0.000    4.404    0.004 /home/clothmanip/robotics/rlkit/rlkit/torch/distributions.py:338(_log_prob_from_pre_tanh)\n",
      "      500    0.087    0.000    6.571    0.013 /home/clothmanip/robotics/rlkit/rlkit/torch/sac/sac.py:142(compute_loss)\n",
      "   128500    0.085    0.000    0.607    0.000 /home/clothmanip/anaconda3/lib/python3.8/site-packages/numpy/core/fromnumeric.py:2236(any)\n",
      "    16479    0.081    0.000    0.081    0.000 {method 'zero_' of 'torch._C._TensorBase' objects}\n",
      "759887/759877    0.079    0.000    0.079    0.000 {built-in method builtins.len}\n",
      "552410/551910    0.076    0.000    0.082    0.000 {built-in method builtins.isinstance}\n",
      "   128500    0.072    0.000    0.769    0.000 <__array_function__ internals>:2(any)\n",
      "   516000    0.071    0.000    0.071    0.000 {method 'conj' of 'numpy.ndarray' objects}\n",
      "    18000    0.069    0.000    0.795    0.000 /home/clothmanip/anaconda3/lib/python3.8/site-packages/torch/nn/functional.py:1655(linear)\n",
      "   131566    0.068    0.000    0.068    0.000 {method 'flatten' of 'numpy.ndarray' objects}\n",
      "   517289    0.057    0.000    0.057    0.000 {built-in method builtins.issubclass}\n",
      "     6000    0.057    0.000    0.057    0.000 {method 'copy_' of 'torch._C._TensorBase' objects}\n",
      "   393746    0.056    0.000    0.056    0.000 {built-in method builtins.getattr}\n",
      "   516000    0.055    0.000    0.055    0.000 /home/clothmanip/anaconda3/lib/python3.8/site-packages/numpy/linalg/linalg.py:2312(_norm_dispatcher)\n",
      "   128502    0.054    0.000    0.078    0.000 /home/clothmanip/robotics/rlkit/rlkit/envs/proxy_env.py:31(__getattr__)\n",
      "     1500    0.053    0.000    1.469    0.001 /home/clothmanip/robotics/rlkit/rlkit/torch/networks/cnn.py:149(forward)\n",
      "    83503    0.052    0.000    0.060    0.000 /home/clothmanip/anaconda3/lib/python3.8/site-packages/torch/tensor.py:725(grad)\n",
      "     1500    0.052    0.000    0.522    0.000 /home/clothmanip/robotics/rlkit/rlkit/torch/networks/cnn.py:198(apply_forward_fc)\n",
      "     1500    0.048    0.000    0.233    0.000 /home/clothmanip/robotics/rlkit/rlkit/torch/distributions.py:373(rsample_with_pretanh)\n",
      "       42    0.045    0.001    0.045    0.001 {method 'forward' of 'mujoco_py.cymj.MjSim' objects}\n",
      "    70748    0.045    0.000    0.045    0.000 /home/clothmanip/anaconda3/lib/python3.8/site-packages/torch/nn/modules/module.py:758(__getattr__)\n",
      "   129530    0.044    0.000    0.044    0.000 /home/clothmanip/anaconda3/lib/python3.8/site-packages/numpy/core/fromnumeric.py:74(<dictcomp>)\n",
      "     1500    0.044    0.000    0.044    0.000 {built-in method normal}\n",
      "     7500    0.038    0.000    0.038    0.000 {built-in method from_numpy}\n",
      "    18000    0.037    0.000    0.847    0.000 /home/clothmanip/anaconda3/lib/python3.8/site-packages/torch/nn/modules/linear.py:90(forward)\n",
      "     1500    0.036    0.000    0.781    0.001 /home/clothmanip/robotics/rlkit/rlkit/torch/networks/cnn.py:188(apply_forward_conv)\n",
      "      500    0.035    0.000   10.224    0.020 /home/clothmanip/robotics/rlkit/rlkit/torch/sac/sac.py:95(train_from_torch)\n",
      "     2000    0.033    0.000    0.033    0.000 {method 'sum' of 'torch._C._TensorBase' objects}\n",
      "      512    0.033    0.000    0.464    0.001 /home/clothmanip/robotics/gym/gym/envs/robotics/cloth_env.py:93(_get_obs)\n",
      "       20    0.031    0.002    0.031    0.002 /home/clothmanip/robotics/rlkit/rlkit/data_management/obs_dict_replay_buffer.py:339(unnormalize_image)\n",
      "   258000    0.030    0.000    0.030    0.000 /home/clothmanip/anaconda3/lib/python3.8/site-packages/numpy/core/fromnumeric.py:197(_reshape_dispatcher)\n",
      "    41504    0.029    0.000    0.029    0.000 {built-in method torch._C._get_tracing_state}\n",
      "     1500    0.029    0.000    0.029    0.000 {built-in method clamp}\n",
      "     2000    0.028    0.000    0.028    0.000 {built-in method ones_like}\n",
      "     3000    0.027    0.000    0.588    0.000 /home/clothmanip/robotics/rlkit/rlkit/torch/networks/mlp.py:59(forward)\n",
      "     1000    0.026    0.000    0.026    0.000 {built-in method torch._C._nn.mse_loss}\n",
      "     2000    0.026    0.000    0.143    0.000 /home/clothmanip/anaconda3/lib/python3.8/site-packages/torch/optim/optimizer.py:166(zero_grad)\n",
      "     7500    0.025    0.000    9.731    0.001 /home/clothmanip/robotics/rlkit/rlkit/torch/pytorch_util.py:253(from_numpy)\n",
      "    18000    0.024    0.000    0.285    0.000 /home/clothmanip/anaconda3/lib/python3.8/site-packages/torch/nn/functional.py:1106(relu)\n",
      "      500    0.022    0.000    0.035    0.000 {method 'randint' of 'numpy.random.mtrand.RandomState' objects}\n",
      "      500    0.021    0.000   10.330    0.021 /home/clothmanip/robotics/rlkit/rlkit/torch/her/her.py:45(train_from_torch)\n",
      "   121256    0.021    0.000    0.023    0.000 {built-in method builtins.hasattr}\n",
      "     5120    0.021    0.000    0.032    0.000 {method 'get_site_xvelp' of 'mujoco_py.cymj.PyMjData' objects}\n",
      "     3000    0.021    0.000    0.021    0.000 {method 'narrow' of 'torch._C._TensorBase' objects}\n",
      "     1501    0.021    0.000    0.021    0.000 {built-in method tanh}\n",
      "     1500    0.020    0.000    0.020    0.000 {built-in method exp}\n",
      "    14036    0.020    0.000    0.052    0.000 /home/clothmanip/anaconda3/lib/python3.8/site-packages/torch/nn/modules/module.py:1048(_named_members)\n",
      "    41001    0.019    0.000    0.042    0.000 {built-in method builtins.any}\n",
      "     1500    0.019    0.000    0.019    0.000 {method 'contiguous' of 'torch._C._TensorBase' objects}\n",
      "   128500    0.018    0.000    0.018    0.000 /home/clothmanip/anaconda3/lib/python3.8/site-packages/numpy/core/fromnumeric.py:2232(_any_dispatcher)\n",
      "     1000    0.018    0.000    0.018    0.000 {built-in method min}\n",
      "   131579    0.017    0.000    0.017    0.000 {method 'items' of 'dict' objects}\n",
      "22080/10028    0.017    0.000    0.019    0.000 /home/clothmanip/anaconda3/lib/python3.8/site-packages/torch/nn/modules/module.py:1215(named_modules)\n",
      "     1500    0.016    0.000    1.748    0.001 /home/clothmanip/robotics/rlkit/rlkit/torch/sac/policies/gaussian_policy.py:485(forward)\n",
      "   169036    0.016    0.000    0.016    0.000 {method 'values' of 'collections.OrderedDict' objects}\n",
      "     4000    0.016    0.000    0.039    0.000 /home/clothmanip/anaconda3/lib/python3.8/site-packages/torch/functional.py:36(broadcast_tensors)\n",
      "\n",
      "\n"
     ]
    },
    {
     "data": {
      "text/plain": [
       "<pstats.Stats at 0x7f40e871e160>"
      ]
     },
     "execution_count": 20,
     "metadata": {},
     "output_type": "execute_result"
    }
   ],
   "source": [
    "p = pstats.Stats('profile-run-run-1-stats')\n",
    "p.sort_stats(KEY).print_stats(100)"
   ]
  },
  {
   "cell_type": "code",
   "execution_count": null,
   "metadata": {},
   "outputs": [],
   "source": []
  },
  {
   "cell_type": "code",
   "execution_count": null,
   "metadata": {},
   "outputs": [],
   "source": []
  }
 ],
 "metadata": {
  "kernelspec": {
   "display_name": "Python 3",
   "language": "python",
   "name": "python3"
  },
  "language_info": {
   "codemirror_mode": {
    "name": "ipython",
    "version": 3
   },
   "file_extension": ".py",
   "mimetype": "text/x-python",
   "name": "python",
   "nbconvert_exporter": "python",
   "pygments_lexer": "ipython3",
   "version": "3.8.3"
  }
 },
 "nbformat": 4,
 "nbformat_minor": 4
}
