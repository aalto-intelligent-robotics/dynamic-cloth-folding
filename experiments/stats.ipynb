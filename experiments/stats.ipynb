{
 "cells": [
  {
   "cell_type": "code",
   "execution_count": 3,
   "metadata": {},
   "outputs": [
    {
     "name": "stdout",
     "output_type": "stream",
     "text": [
      "['CALLS', 'CUMULATIVE', 'FILENAME', 'LINE', 'NAME', 'NFL', 'PCALLS', 'STDNAME', 'TIME', '__class__', '__doc__', '__members__', '__module__']\n",
      "Thu Apr  8 17:07:47 2021    ./profiling/profmain.prof\n",
      "\n",
      "         6044612 function calls (5950454 primitive calls) in 186.450 seconds\n",
      "\n",
      "   Ordered by: internal time\n",
      "   List reduced from 1140 to 100 due to restriction <100>\n",
      "\n",
      "   ncalls  tottime  percall  cumtime  percall filename:lineno(function)\n",
      "     2629  143.419    0.055  143.419    0.055 {built-in method posix.read}\n",
      "    20030    8.699    0.000    8.699    0.000 {mujoco_py.cymj._mj_step2}\n",
      "    20000    6.417    0.000    6.417    0.000 {built-in method osc_binding.step_controller}\n",
      "    20030    5.438    0.000    5.438    0.000 {mujoco_py.cymj._mj_step1}\n",
      "    20021    4.237    0.000    4.554    0.000 /home/clothmanip/robotics/cloth-manipulation/experiments/envs/cloth.py:275(update_osc_vals)\n",
      "     4000    2.263    0.001    2.263    0.001 {method 'run_backward' of 'torch._C._EngineBase' objects}\n",
      "     2651    1.614    0.001    1.614    0.001 {built-in method zeros}\n",
      "      101    1.347    0.013    1.347    0.013 {imwrite}\n",
      "    36600    1.116    0.000    1.116    0.000 {built-in method addmm}\n",
      "    17342    0.478    0.000    0.478    0.000 {method 'to' of 'torch._C._TensorBase' objects}\n",
      "     2000    0.454    0.000    0.799    0.000 /home/clothmanip/robotics/rlkit/rlkit/torch/pytorch_util.py:25(soft_update_from_to)\n",
      "     2000    0.423    0.000   26.651    0.013 /home/clothmanip/robotics/cloth-manipulation/experiments/envs/cloth.py:210(step)\n",
      "    20000    0.393    0.000   25.599    0.001 /home/clothmanip/robotics/cloth-manipulation/experiments/envs/cloth.py:203(step_env)\n",
      "    42000    0.392    0.000    0.392    0.000 {method 'mul_' of 'torch._C._TensorBase' objects}\n",
      "     4000    0.387    0.000    1.629    0.000 /home/clothmanip/anaconda3/lib/python3.8/site-packages/torch/optim/functional.py:53(adam)\n",
      "    42000    0.320    0.000    0.320    0.000 {method 'add_' of 'torch._C._TensorBase' objects}\n",
      "        1    0.317    0.317    0.317    0.317 {mujoco_py.cymj.load_model_from_path}\n",
      "    21300    0.306    0.000    0.306    0.000 {built-in method relu}\n",
      "   147005    0.283    0.000    0.471    0.000 /home/clothmanip/anaconda3/lib/python3.8/site-packages/torch/tensor.py:933(grad)\n",
      "        1    0.272    0.272    0.666    0.666 /home/clothmanip/robotics/cloth-manipulation/experiments/envs/cloth.py:13(__init__)\n",
      "      101    0.255    0.003    0.255    0.003 {method 'read_pixels' of 'mujoco_py.cymj.MjRenderContext' objects}\n",
      "    20021    0.241    0.000    0.241    0.000 {mujoco_py.cymj._mj_fullM}\n",
      "    36600    0.235    0.000    0.235    0.000 {method 't' of 'torch._C._TensorBase' objects}\n",
      "     2000    0.232    0.000    0.264    0.000 /home/clothmanip/anaconda3/lib/python3.8/site-packages/torch/distributions/normal.py:70(log_prob)\n",
      "49250/12650    0.225    0.000    3.115    0.000 /home/clothmanip/anaconda3/lib/python3.8/site-packages/torch/nn/modules/module.py:715(_call_impl)\n",
      "    16000    0.223    0.000    0.223    0.000 {built-in method cat}\n",
      "    21000    0.196    0.000    0.196    0.000 {method 'sqrt' of 'torch._C._TensorBase' objects}\n",
      "    21000    0.181    0.000    0.181    0.000 {method 'addcdiv_' of 'torch._C._TensorBase' objects}\n",
      "     1000    0.159    0.000    3.119    0.003 /home/clothmanip/robotics/rlkit/rlkit/torch/sac/sac.py:143(compute_loss)\n",
      "     2000    0.156    0.000    0.594    0.000 /home/clothmanip/robotics/rlkit/rlkit/torch/distributions.py:338(_log_prob_from_pre_tanh)\n",
      "        1    0.151    0.151  182.262  182.262 /home/clothmanip/robotics/rlkit/rlkit/core/batch_rl_algorithm.py:65(_train)\n",
      "    21000    0.148    0.000    0.148    0.000 {method 'addcmul_' of 'torch._C._TensorBase' objects}\n",
      "    24650    0.132    0.000    0.132    0.000 {method 'float' of 'torch._C._TensorBase' objects}\n",
      "    36600    0.130    0.000    1.617    0.000 /home/clothmanip/anaconda3/lib/python3.8/site-packages/torch/nn/functional.py:1669(linear)\n",
      "     3000    0.121    0.000    0.455    0.000 /home/clothmanip/robotics/gym/gym/envs/robotics/reward_calculation.py:10(task_reward_function)\n",
      "   244708    0.116    0.000    0.355    0.000 /home/clothmanip/anaconda3/lib/python3.8/site-packages/torch/overrides.py:1073(has_torch_function)\n",
      "    20991    0.113    0.000    0.113    0.000 {method 'zero_' of 'torch._C._TensorBase' objects}\n",
      "    24164    0.112    0.000    0.112    0.000 {method 'reduce' of 'numpy.ufunc' objects}\n",
      "   526016    0.106    0.000    0.131    0.000 /home/clothmanip/anaconda3/lib/python3.8/site-packages/torch/overrides.py:1086(<genexpr>)\n",
      "    12000    0.104    0.000    0.104    0.000 {method 'copy_' of 'torch._C._TensorBase' objects}\n",
      "      101    0.100    0.001    0.101    0.001 {method 'render' of 'mujoco_py.cymj.MjRenderContext' objects}\n",
      "   292609    0.099    0.000    0.236    0.000 {built-in method builtins.any}\n",
      "95541/74350    0.098    0.000    0.475    0.000 {built-in method numpy.core._multiarray_umath.implement_array_function}\n",
      "    83928    0.096    0.000    0.096    0.000 {built-in method numpy.array}\n",
      "    20000    0.090    0.000    0.204    0.000 /home/clothmanip/anaconda3/lib/python3.8/site-packages/numpy/linalg/linalg.py:2363(norm)\n",
      "     4650    0.085    0.000    0.085    0.000 {built-in method clamp}\n",
      "     2650    0.083    0.000    0.394    0.000 /home/clothmanip/robotics/rlkit/rlkit/torch/distributions.py:373(rsample_with_pretanh)\n",
      "    69103    0.080    0.000    0.177    0.000 /home/clothmanip/anaconda3/lib/python3.8/site-packages/torch/tensor.py:596(__hash__)\n",
      "    36600    0.077    0.000    1.721    0.000 /home/clothmanip/anaconda3/lib/python3.8/site-packages/torch/nn/modules/linear.py:92(forward)\n",
      "     1000    0.076    0.000    0.076    0.000 /home/clothmanip/robotics/rlkit/rlkit/data_management/future_obs_dict_replay_buffer.py:209(<listcomp>)\n",
      "     1000    0.074    0.000    0.558    0.001 /home/clothmanip/robotics/rlkit/rlkit/data_management/future_obs_dict_replay_buffer.py:189(random_batch)\n",
      "    14650    0.072    0.000    0.072    0.000 {built-in method from_numpy}\n",
      "     2650    0.071    0.000    0.071    0.000 {built-in method normal}\n",
      "     4651    0.071    0.000    0.071    0.000 {built-in method tanh}\n",
      "    18189    0.071    0.000    0.104    0.000 {method 'get_site_xvelp' of 'mujoco_py.cymj.PyMjData' objects}\n",
      "     4000    0.070    0.000    1.956    0.000 /home/clothmanip/anaconda3/lib/python3.8/site-packages/torch/optim/adam.py:55(step)\n",
      "     7300    0.066    0.000    0.162    0.000 /home/clothmanip/anaconda3/lib/python3.8/site-packages/torch/distributions/utils.py:7(broadcast_all)\n",
      "     4650    0.065    0.000    1.653    0.000 /home/clothmanip/robotics/rlkit/rlkit/torch/sac/policies/gaussian_policy.py:99(forward)\n",
      "     4650    0.062    0.000    0.062    0.000 {built-in method exp}\n",
      "     4000    0.059    0.000    0.059    0.000 {method 'sum' of 'torch._C._TensorBase' objects}\n",
      "    26045    0.058    0.000    0.058    0.000 {method 'flatten' of 'numpy.ndarray' objects}\n",
      "        1    0.058    0.058    0.058    0.058 {built-in method _pickle.dump}\n",
      "    18000    0.057    0.000    0.269    0.000 /home/clothmanip/robotics/gym/gym/envs/robotics/reward_calculation.py:4(goal_distance)\n",
      "     4000    0.054    0.000    0.054    0.000 {built-in method ones_like}\n",
      "     1000    0.052    0.000    0.066    0.000 /home/clothmanip/robotics/rlkit/rlkit/data_management/future_obs_dict_replay_buffer.py:201(<listcomp>)\n",
      "    20000    0.051    0.000    6.560    0.000 /home/clothmanip/robotics/cloth-manipulation/experiments/envs/cloth.py:184(run_controller)\n",
      "     1313    0.051    0.000    0.051    0.000 {built-in method _pickle.loads}\n",
      "       51    0.050    0.001    0.050    0.001 {method 'forward' of 'mujoco_py.cymj.MjSim' objects}\n",
      "     6000    0.050    0.000    1.109    0.000 /home/clothmanip/robotics/rlkit/rlkit/torch/networks/mlp.py:59(forward)\n",
      "     2000    0.049    0.000    0.049    0.000 {built-in method torch._C._nn.mse_loss}\n",
      "    20021    0.049    0.000    0.049    0.000 {mujoco_py.cymj._mj_jacSite}\n",
      "    48187    0.049    0.000    0.049    0.000 {built-in method numpy.zeros}\n",
      "     1000    0.048    0.000    8.797    0.009 /home/clothmanip/robotics/rlkit/rlkit/torch/sac/sac.py:96(train_from_torch)\n",
      "    90640    0.048    0.000    0.048    0.000 /home/clothmanip/anaconda3/lib/python3.8/site-packages/torch/nn/modules/module.py:765(__getattr__)\n",
      "     2021    0.045    0.000    0.247    0.000 /home/clothmanip/robotics/cloth-manipulation/experiments/envs/cloth.py:359(_get_obs)\n",
      "     4000    0.044    0.000    0.440    0.000 /home/clothmanip/anaconda3/lib/python3.8/site-packages/torch/optim/optimizer.py:167(zero_grad)\n",
      "426524/426519    0.043    0.000    0.043    0.000 {built-in method builtins.len}\n",
      "    28023    0.040    0.000    0.219    0.000 /home/clothmanip/anaconda3/lib/python3.8/site-packages/torch/nn/modules/module.py:1055(_named_members)\n",
      "    14650    0.039    0.000    0.628    0.000 /home/clothmanip/robotics/rlkit/rlkit/torch/pytorch_util.py:253(from_numpy)\n",
      "     1000    0.039    0.000    0.039    0.000 /home/clothmanip/robotics/rlkit/rlkit/data_management/future_obs_dict_replay_buffer.py:266(<dictcomp>)\n",
      "     1000    0.039    0.000    8.949    0.009 /home/clothmanip/robotics/rlkit/rlkit/torch/her/cloth/her.py:48(train_from_torch)\n",
      "    49250    0.036    0.000    0.036    0.000 {built-in method torch._C._get_tracing_state}\n",
      "     9300    0.035    0.000    0.090    0.000 /home/clothmanip/anaconda3/lib/python3.8/site-packages/torch/functional.py:42(broadcast_tensors)\n",
      "     9300    0.035    0.000    0.035    0.000 {built-in method broadcast_tensors}\n",
      "     7300    0.033    0.000    0.045    0.000 /home/clothmanip/anaconda3/lib/python3.8/site-packages/torch/distributions/independent.py:36(__init__)\n",
      "     1000    0.033    0.000    0.033    0.000 /home/clothmanip/robotics/rlkit/rlkit/data_management/future_obs_dict_replay_buffer.py:272(<dictcomp>)\n",
      "    78840    0.031    0.000    0.031    0.000 {method 'copy' of 'numpy.ndarray' objects}\n",
      "44036/20016    0.031    0.000    0.035    0.000 /home/clothmanip/anaconda3/lib/python3.8/site-packages/torch/nn/modules/module.py:1222(named_modules)\n",
      "   264140    0.031    0.000    0.031    0.000 {built-in method builtins.getattr}\n",
      "    21300    0.031    0.000    0.339    0.000 /home/clothmanip/anaconda3/lib/python3.8/site-packages/torch/nn/functional.py:1124(relu)\n",
      "     2000    0.030    0.000    0.030    0.000 {built-in method min}\n",
      "     2000    0.028    0.000    0.382    0.000 /home/clothmanip/robotics/cloth-manipulation/experiments/envs/cloth.py:228(_post_action)\n",
      "     1000    0.028    0.000    0.044    0.000 {method 'randint' of 'numpy.random.mtrand.RandomState' objects}\n",
      "123732/118432    0.027    0.000    0.039    0.000 {built-in method builtins.isinstance}\n",
      "     2000    0.027    0.000    0.027    0.000 {method 'mean' of 'torch._C._TensorBase' objects}\n",
      "     2650    0.027    0.000    0.027    0.000 {built-in method ones}\n",
      "     7300    0.026    0.000    0.218    0.000 /home/clothmanip/anaconda3/lib/python3.8/site-packages/torch/distributions/normal.py:43(__init__)\n",
      "        7    0.026    0.004  142.430   20.347 /home/clothmanip/robotics/rlkit/rlkit/samplers/async_rollout_functions.py:5(vec_env_rollout)\n",
      "     2000    0.026    0.000   26.724    0.013 /home/clothmanip/robotics/rlkit/rlkit/envs/wrappers/normalized_box_env.py:48(step)\n",
      "     2000    0.026    0.000    0.026    0.000 {method 'log' of 'torch._C._TensorBase' objects}\n",
      "\n",
      "\n"
     ]
    },
    {
     "data": {
      "text/plain": [
       "<pstats.Stats at 0x7f2330627250>"
      ]
     },
     "execution_count": 3,
     "metadata": {},
     "output_type": "execute_result"
    }
   ],
   "source": [
    "import pstats\n",
    "from pstats import SortKey\n",
    "KEY = SortKey.TIME\n",
    "print(dir(SortKey))\n",
    "stats_file = \"./profiling/profmain.prof\"\n",
    "p = pstats.Stats(stats_file)\n",
    "p.sort_stats(KEY).print_stats(100)"
   ]
  },
  {
   "cell_type": "code",
   "execution_count": null,
   "metadata": {},
   "outputs": [],
   "source": []
  },
  {
   "cell_type": "code",
   "execution_count": null,
   "metadata": {},
   "outputs": [],
   "source": []
  }
 ],
 "metadata": {
  "kernelspec": {
   "display_name": "Python 3",
   "language": "python",
   "name": "python3"
  },
  "language_info": {
   "codemirror_mode": {
    "name": "ipython",
    "version": 3
   },
   "file_extension": ".py",
   "mimetype": "text/x-python",
   "name": "python",
   "nbconvert_exporter": "python",
   "pygments_lexer": "ipython3",
   "version": "3.8.3"
  },
  "varInspector": {
   "cols": {
    "lenName": 16,
    "lenType": 16,
    "lenVar": 40
   },
   "kernels_config": {
    "python": {
     "delete_cmd_postfix": "",
     "delete_cmd_prefix": "del ",
     "library": "var_list.py",
     "varRefreshCmd": "print(var_dic_list())"
    },
    "r": {
     "delete_cmd_postfix": ") ",
     "delete_cmd_prefix": "rm(",
     "library": "var_list.r",
     "varRefreshCmd": "cat(var_dic_list()) "
    }
   },
   "types_to_exclude": [
    "module",
    "function",
    "builtin_function_or_method",
    "instance",
    "_Feature"
   ],
   "window_display": false
  }
 },
 "nbformat": 4,
 "nbformat_minor": 4
}
