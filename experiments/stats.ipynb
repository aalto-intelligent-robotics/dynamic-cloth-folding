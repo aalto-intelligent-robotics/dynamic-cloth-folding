{
 "cells": [
  {
   "cell_type": "code",
   "execution_count": 1,
   "metadata": {},
   "outputs": [
    {
     "name": "stdout",
     "output_type": "stream",
     "text": [
      "['CALLS', 'CUMULATIVE', 'FILENAME', 'LINE', 'NAME', 'NFL', 'PCALLS', 'STDNAME', 'TIME', '__class__', '__doc__', '__members__', '__module__']\n",
      "Fri Apr  9 19:22:30 2021    ./profiling/profmain.prof\n",
      "\n",
      "         33026817 function calls (32583822 primitive calls) in 616.286 seconds\n",
      "\n",
      "   Ordered by: internal time\n",
      "   List reduced from 1195 to 100 due to restriction <100>\n",
      "\n",
      "   ncalls  tottime  percall  cumtime  percall filename:lineno(function)\n",
      "    17050  522.724    0.031  522.724    0.031 {built-in method posix.read}\n",
      "    32000   18.660    0.001   18.660    0.001 {method 'run_backward' of 'torch._C._EngineBase' objects}\n",
      "   216556    6.358    0.000    6.358    0.000 {built-in method addmm}\n",
      "    16000    3.681    0.000    6.490    0.000 /home/clothmanip/robotics/rlkit/rlkit/torch/pytorch_util.py:25(soft_update_from_to)\n",
      "    32000    3.117    0.000   13.027    0.000 /home/clothmanip/anaconda3/lib/python3.8/site-packages/torch/optim/functional.py:53(adam)\n",
      "   336000    3.096    0.000    3.096    0.000 {method 'mul_' of 'torch._C._TensorBase' objects}\n",
      "   336000    2.561    0.000    2.561    0.000 {method 'add_' of 'torch._C._TensorBase' objects}\n",
      "  1176005    2.342    0.000    3.890    0.000 /home/clothmanip/anaconda3/lib/python3.8/site-packages/torch/tensor.py:933(grad)\n",
      "   100320    2.248    0.000    2.248    0.000 {method 'to' of 'torch._C._TensorBase' objects}\n",
      "     5030    2.178    0.000    2.178    0.000 {mujoco_py.cymj._mj_step2}\n",
      "    17640    1.927    0.000    1.928    0.000 {built-in method zeros}\n",
      "    16000    1.873    0.000    2.139    0.000 /home/clothmanip/anaconda3/lib/python3.8/site-packages/torch/distributions/normal.py:70(log_prob)\n",
      "   132278    1.834    0.000    1.834    0.000 {built-in method relu}\n",
      "   128000    1.816    0.000    1.816    0.000 {built-in method cat}\n",
      "   168000    1.583    0.000    1.583    0.000 {method 'sqrt' of 'torch._C._TensorBase' objects}\n",
      "     5000    1.582    0.000    1.582    0.000 {built-in method osc_binding.step_controller}\n",
      "   168000    1.434    0.000    1.434    0.000 {method 'addcdiv_' of 'torch._C._TensorBase' objects}\n",
      "     5030    1.362    0.000    1.362    0.000 {mujoco_py.cymj._mj_step1}\n",
      "     8000    1.302    0.000   25.585    0.003 /home/clothmanip/robotics/rlkit/rlkit/torch/sac/sac.py:143(compute_loss)\n",
      "   216556    1.292    0.000    1.292    0.000 {method 't' of 'torch._C._TensorBase' objects}\n",
      "    16000    1.265    0.000    4.957    0.000 /home/clothmanip/robotics/rlkit/rlkit/torch/distributions.py:338(_log_prob_from_pre_tanh)\n",
      "298695/82139    1.236    0.000   17.142    0.000 /home/clothmanip/anaconda3/lib/python3.8/site-packages/torch/nn/modules/module.py:715(_call_impl)\n",
      "   168000    1.192    0.000    1.192    0.000 {method 'addcmul_' of 'torch._C._TensorBase' objects}\n",
      "     5021    1.118    0.000    1.206    0.000 /home/clothmanip/robotics/cloth-manipulation/experiments/envs/cloth.py:328(update_osc_vals)\n",
      "   167991    0.912    0.000    0.912    0.000 {method 'zero_' of 'torch._C._TensorBase' objects}\n",
      "  1880664    0.895    0.000    2.711    0.000 /home/clothmanip/anaconda3/lib/python3.8/site-packages/torch/overrides.py:1073(has_torch_function)\n",
      "    96000    0.821    0.000    0.821    0.000 {method 'copy_' of 'torch._C._TensorBase' objects}\n",
      "  3977884    0.808    0.000    0.991    0.000 /home/clothmanip/anaconda3/lib/python3.8/site-packages/torch/overrides.py:1086(<genexpr>)\n",
      "   216556    0.772    0.000    9.230    0.000 /home/clothmanip/anaconda3/lib/python3.8/site-packages/torch/nn/functional.py:1669(linear)\n",
      "  2164999    0.733    0.000    1.753    0.000 {built-in method builtins.any}\n",
      "   178139    0.727    0.000    0.727    0.000 {method 'float' of 'torch._C._TensorBase' objects}\n",
      "     8000    0.716    0.000    4.625    0.001 /home/clothmanip/robotics/rlkit/rlkit/data_management/future_obs_dict_replay_buffer.py:189(random_batch)\n",
      "   552103    0.669    0.000    1.468    0.000 /home/clothmanip/anaconda3/lib/python3.8/site-packages/torch/tensor.py:596(__hash__)\n",
      "     8000    0.636    0.000    0.636    0.000 /home/clothmanip/robotics/rlkit/rlkit/data_management/future_obs_dict_replay_buffer.py:209(<listcomp>)\n",
      "    32000    0.589    0.000   15.747    0.000 /home/clothmanip/anaconda3/lib/python3.8/site-packages/torch/optim/adam.py:55(step)\n",
      "    17639    0.545    0.000    2.559    0.000 /home/clothmanip/robotics/rlkit/rlkit/torch/distributions.py:373(rsample_with_pretanh)\n",
      "     8000    0.486    0.000    0.660    0.000 /home/clothmanip/robotics/rlkit/rlkit/data_management/future_obs_dict_replay_buffer.py:201(<listcomp>)\n",
      "     8000    0.472    0.000    0.472    0.000 /home/clothmanip/robotics/rlkit/rlkit/data_management/future_obs_dict_replay_buffer.py:266(<dictcomp>)\n",
      "    32000    0.469    0.000    0.469    0.000 {method 'sum' of 'torch._C._TensorBase' objects}\n",
      "   216556    0.458    0.000    9.853    0.000 /home/clothmanip/anaconda3/lib/python3.8/site-packages/torch/nn/modules/linear.py:92(forward)\n",
      "    17639    0.451    0.000    0.451    0.000 {built-in method normal}\n",
      "    32000    0.441    0.000    0.441    0.000 {built-in method ones_like}\n",
      "     8000    0.417    0.000    0.417    0.000 /home/clothmanip/robotics/rlkit/rlkit/data_management/future_obs_dict_replay_buffer.py:272(<dictcomp>)\n",
      "     8000    0.416    0.000   71.951    0.009 /home/clothmanip/robotics/rlkit/rlkit/torch/sac/sac.py:96(train_from_torch)\n",
      "    48000    0.406    0.000    9.048    0.000 /home/clothmanip/robotics/rlkit/rlkit/torch/networks/mlp.py:59(forward)\n",
      "    16000    0.385    0.000    0.385    0.000 {built-in method torch._C._nn.mse_loss}\n",
      "    32000    0.377    0.000    3.610    0.000 /home/clothmanip/anaconda3/lib/python3.8/site-packages/torch/optim/optimizer.py:167(zero_grad)\n",
      "    42664    0.349    0.000    0.349    0.000 {method 'reduce' of 'numpy.ufunc' objects}\n",
      "    98139    0.329    0.000    0.329    0.000 {built-in method from_numpy}\n",
      "   224023    0.328    0.000    1.808    0.000 /home/clothmanip/anaconda3/lib/python3.8/site-packages/torch/nn/modules/module.py:1055(_named_members)\n",
      "   157939    0.319    0.000    0.322    0.000 {built-in method numpy.array}\n",
      "       26    0.317    0.012    0.317    0.012 {imwrite}\n",
      "        1    0.316    0.316    0.316    0.316 {mujoco_py.cymj.load_model_from_path}\n",
      "    18139    0.315    0.000    0.315    0.000 {built-in method clamp}\n",
      "     8000    0.302    0.000   73.173    0.009 /home/clothmanip/robotics/rlkit/rlkit/torch/her/cloth/her.py:48(train_from_torch)\n",
      "2689824/2689819    0.289    0.000    0.289    0.000 {built-in method builtins.len}\n",
      "        1    0.276    0.276    0.673    0.673 /home/clothmanip/robotics/cloth-manipulation/experiments/envs/cloth.py:14(__init__)\n",
      "     8000    0.269    0.000    0.421    0.000 {method 'randint' of 'numpy.random.mtrand.RandomState' objects}\n",
      "     8522    0.259    0.000    0.259    0.000 {built-in method _pickle.loads}\n",
      "   518030    0.257    0.000    0.257    0.000 /home/clothmanip/anaconda3/lib/python3.8/site-packages/torch/nn/modules/module.py:765(__getattr__)\n",
      "352036/160016    0.255    0.000    0.284    0.000 /home/clothmanip/anaconda3/lib/python3.8/site-packages/torch/nn/modules/module.py:1222(named_modules)\n",
      "    16000    0.241    0.000    0.241    0.000 {built-in method min}\n",
      "    18139    0.240    0.000    5.947    0.000 /home/clothmanip/robotics/rlkit/rlkit/torch/sac/policies/gaussian_policy.py:99(forward)\n",
      "    18140    0.236    0.000    0.236    0.000 {built-in method tanh}\n",
      "    18139    0.230    0.000    0.230    0.000 {built-in method exp}\n",
      "     8500    0.225    0.000    1.007    0.000 /home/clothmanip/robotics/gym/gym/envs/robotics/reward_calculation.py:10(task_reward_function)\n",
      "        1    0.223    0.223  612.060  612.060 /home/clothmanip/robotics/rlkit/rlkit/core/batch_rl_algorithm.py:65(_train)\n",
      "    98139    0.218    0.000    3.396    0.000 /home/clothmanip/robotics/rlkit/rlkit/torch/pytorch_util.py:253(from_numpy)\n",
      "   298695    0.217    0.000    0.217    0.000 {built-in method torch._C._get_tracing_state}\n",
      "    16000    0.214    0.000    0.214    0.000 {method 'mean' of 'torch._C._TensorBase' objects}\n",
      "    16000    0.212    0.000    0.212    0.000 {method 'log' of 'torch._C._TensorBase' objects}\n",
      "  1944901    0.204    0.000    0.204    0.000 {built-in method builtins.getattr}\n",
      "    16000    0.191    0.000    0.191    0.000 {built-in method torch._C._nn.softplus}\n",
      "    51778    0.184    0.000    0.458    0.000 /home/clothmanip/anaconda3/lib/python3.8/site-packages/torch/functional.py:42(broadcast_tensors)\n",
      "   132278    0.181    0.000    2.031    0.000 /home/clothmanip/anaconda3/lib/python3.8/site-packages/torch/nn/functional.py:1124(relu)\n",
      "  1880664    0.180    0.000    0.180    0.000 {built-in method torch._C._is_torch_function_enabled}\n",
      "    25500    0.173    0.000    0.615    0.000 /home/clothmanip/robotics/gym/gym/envs/robotics/reward_calculation.py:4(goal_distance)\n",
      "    17639    0.171    0.000    0.171    0.000 {built-in method ones}\n",
      "    51778    0.169    0.000    0.169    0.000 {built-in method broadcast_tensors}\n",
      "    32000    0.154    0.000   19.498    0.001 /home/clothmanip/anaconda3/lib/python3.8/site-packages/torch/tensor.py:181(backward)\n",
      "    26000    0.153    0.000    0.396    0.000 /home/clothmanip/anaconda3/lib/python3.8/site-packages/numpy/linalg/linalg.py:2363(norm)\n",
      "    35778    0.152    0.000    0.205    0.000 /home/clothmanip/anaconda3/lib/python3.8/site-packages/torch/distributions/independent.py:36(__init__)\n",
      "    32000    0.147    0.000   16.183    0.001 /home/clothmanip/anaconda3/lib/python3.8/site-packages/torch/autograd/grad_mode.py:23(decorate_context)\n",
      "    35778    0.133    0.000    0.568    0.000 /home/clothmanip/anaconda3/lib/python3.8/site-packages/torch/distributions/utils.py:7(broadcast_all)\n",
      "8546/8541    0.128    0.000    0.129    0.000 {method 'dump' of '_pickle.Pickler' objects}\n",
      "92999/70133    0.123    0.000    0.924    0.000 {built-in method numpy.core._multiarray_umath.implement_array_function}\n",
      "    48000    0.119    0.000   10.068    0.000 /home/clothmanip/robotics/rlkit/rlkit/torch/networks/mlp.py:137(forward)\n",
      "   216556    0.116    0.000    0.116    0.000 /home/clothmanip/anaconda3/lib/python3.8/site-packages/torch/nn/functional.py:1686(<listcomp>)\n",
      "    35778    0.116    0.000    0.807    0.000 /home/clothmanip/anaconda3/lib/python3.8/site-packages/torch/distributions/normal.py:43(__init__)\n",
      "      500    0.114    0.000    6.704    0.013 /home/clothmanip/robotics/cloth-manipulation/experiments/envs/cloth.py:237(step)\n",
      "  1192331    0.114    0.000    0.114    0.000 {built-in method builtins.hasattr}\n",
      "     8000    0.113    0.000    0.113    0.000 {built-in method rsub}\n",
      "     8000    0.111    0.000    2.751    0.000 /home/clothmanip/robotics/rlkit/rlkit/torch/core.py:71(<dictcomp>)\n",
      "    32000    0.110    0.000    0.574    0.000 /home/clothmanip/anaconda3/lib/python3.8/site-packages/torch/autograd/__init__.py:28(_make_grads)\n",
      "    35278    0.110    0.000    0.110    0.000 {method 'expand' of 'torch._C._TensorBase' objects}\n",
      "  1194786    0.103    0.000    0.103    0.000 {method 'values' of 'collections.OrderedDict' objects}\n",
      "    99406    0.100    0.000    0.141    0.000 /home/clothmanip/anaconda3/lib/python3.8/site-packages/torch/autograd/grad_mode.py:166(__init__)\n",
      "   224023    0.100    0.000    1.988    0.000 /home/clothmanip/anaconda3/lib/python3.8/site-packages/torch/nn/modules/module.py:1068(parameters)\n",
      "     5000    0.098    0.000    6.448    0.001 /home/clothmanip/robotics/cloth-manipulation/experiments/envs/cloth.py:230(step_env)\n",
      "    49703    0.097    0.000    0.103    0.000 /home/clothmanip/anaconda3/lib/python3.8/site-packages/torch/autograd/grad_mode.py:80(__init__)\n",
      "\n",
      "\n"
     ]
    },
    {
     "data": {
      "text/plain": [
       "<pstats.Stats at 0x7f3818063be0>"
      ]
     },
     "execution_count": 1,
     "metadata": {},
     "output_type": "execute_result"
    }
   ],
   "source": [
    "import pstats\n",
    "from pstats import SortKey\n",
    "KEY = SortKey.TIME\n",
    "print(dir(SortKey))\n",
    "stats_file = \"./profiling/profmain.prof\"\n",
    "p = pstats.Stats(stats_file)\n",
    "p.sort_stats(KEY).print_stats(100)"
   ]
  },
  {
   "cell_type": "code",
   "execution_count": null,
   "metadata": {},
   "outputs": [],
   "source": []
  },
  {
   "cell_type": "code",
   "execution_count": null,
   "metadata": {},
   "outputs": [],
   "source": []
  }
 ],
 "metadata": {
  "kernelspec": {
   "display_name": "Python 3",
   "language": "python",
   "name": "python3"
  },
  "language_info": {
   "codemirror_mode": {
    "name": "ipython",
    "version": 3
   },
   "file_extension": ".py",
   "mimetype": "text/x-python",
   "name": "python",
   "nbconvert_exporter": "python",
   "pygments_lexer": "ipython3",
   "version": "3.8.3"
  },
  "varInspector": {
   "cols": {
    "lenName": 16,
    "lenType": 16,
    "lenVar": 40
   },
   "kernels_config": {
    "python": {
     "delete_cmd_postfix": "",
     "delete_cmd_prefix": "del ",
     "library": "var_list.py",
     "varRefreshCmd": "print(var_dic_list())"
    },
    "r": {
     "delete_cmd_postfix": ") ",
     "delete_cmd_prefix": "rm(",
     "library": "var_list.r",
     "varRefreshCmd": "cat(var_dic_list()) "
    }
   },
   "types_to_exclude": [
    "module",
    "function",
    "builtin_function_or_method",
    "instance",
    "_Feature"
   ],
   "window_display": false
  }
 },
 "nbformat": 4,
 "nbformat_minor": 4
}
