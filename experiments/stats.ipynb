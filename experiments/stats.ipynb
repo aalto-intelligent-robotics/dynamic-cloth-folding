{
 "cells": [
  {
   "cell_type": "code",
   "execution_count": 1,
   "metadata": {},
   "outputs": [
    {
     "name": "stdout",
     "output_type": "stream",
     "text": [
      "['CALLS', 'CUMULATIVE', 'FILENAME', 'LINE', 'NAME', 'NFL', 'PCALLS', 'STDNAME', 'TIME', '__class__', '__doc__', '__members__', '__module__']\n",
      "Mon Apr 12 13:01:11 2021    ./profiling/profmain.prof\n",
      "\n",
      "         3710006049 function calls (3662760538 primitive calls) in 73827.471 seconds\n",
      "\n",
      "   Ordered by: internal time\n",
      "   List reduced from 1181 to 100 due to restriction <100>\n",
      "\n",
      "   ncalls  tottime  percall  cumtime  percall filename:lineno(function)\n",
      "  1884575 57117.150    0.030 57117.150    0.030 {built-in method posix.read}\n",
      "   230030 5505.747    0.024 5505.747    0.024 {mujoco_py.cymj._mj_step2}\n",
      "  3624000 2167.974    0.001 2167.974    0.001 {method 'run_backward' of 'torch._C._EngineBase' objects}\n",
      " 24010416 1256.443    0.000 1256.443    0.000 {built-in method addmm}\n",
      " 19026000  911.535    0.000  911.535    0.000 {method 'sqrt' of 'torch._C._TensorBase' objects}\n",
      " 38052000  617.202    0.000  617.202    0.000 {method 'mul_' of 'torch._C._TensorBase' objects}\n",
      "  1812000  348.474    0.000  629.286    0.000 /home/clothmanip/robotics/rlkit/rlkit/torch/pytorch_util.py:25(soft_update_from_to)\n",
      " 14723208  311.671    0.000  311.671    0.000 {built-in method relu}\n",
      "  3624000  300.516    0.000 2411.991    0.001 /home/clothmanip/anaconda3/lib/python3.8/site-packages/torch/optim/functional.py:53(adam)\n",
      " 19026000  278.221    0.000  278.221    0.000 {method 'addcdiv_' of 'torch._C._TensorBase' objects}\n",
      "133182005  267.761    0.000  448.623    0.000 /home/clothmanip/anaconda3/lib/python3.8/site-packages/torch/tensor.py:933(grad)\n",
      " 38052000  207.229    0.000  207.229    0.000 {method 'add_' of 'torch._C._TensorBase' objects}\n",
      " 14496000  191.746    0.000  191.746    0.000 {built-in method cat}\n",
      "   906000  157.113    0.000  869.027    0.001 /home/clothmanip/robotics/rlkit/rlkit/data_management/future_obs_dict_replay_buffer.py:189(random_batch)\n",
      "       46  149.875    3.258  149.875    3.258 {built-in method _pickle.dump}\n",
      "  1812000  144.737    0.000  167.288    0.000 /home/clothmanip/anaconda3/lib/python3.8/site-packages/torch/distributions/normal.py:70(log_prob)\n",
      "33184020/9173604  142.567    0.000 2537.978    0.000 /home/clothmanip/anaconda3/lib/python3.8/site-packages/torch/nn/modules/module.py:715(_call_impl)\n",
      " 24010416  131.938    0.000  131.938    0.000 {method 't' of 'torch._C._TensorBase' objects}\n",
      "   906000  102.306    0.000 3271.740    0.004 /home/clothmanip/robotics/rlkit/rlkit/torch/sac/sac.py:140(compute_loss)\n",
      "212458524  101.671    0.000  313.797    0.000 /home/clothmanip/anaconda3/lib/python3.8/site-packages/torch/overrides.py:1073(has_torch_function)\n",
      "   906000   99.609    0.000   99.609    0.000 /home/clothmanip/robotics/rlkit/rlkit/data_management/future_obs_dict_replay_buffer.py:266(<dictcomp>)\n",
      "   906000   98.225    0.000   98.225    0.000 /home/clothmanip/robotics/rlkit/rlkit/data_management/future_obs_dict_replay_buffer.py:209(<listcomp>)\n",
      "  1812000   97.855    0.000  379.030    0.000 /home/clothmanip/robotics/rlkit/rlkit/torch/distributions.py:338(_log_prob_from_pre_tanh)\n",
      "448927464   93.728    0.000  115.534    0.000 /home/clothmanip/anaconda3/lib/python3.8/site-packages/torch/overrides.py:1086(<genexpr>)\n",
      " 19026000   92.910    0.000   92.910    0.000 {method 'addcmul_' of 'torch._C._TensorBase' objects}\n",
      "   906000   90.758    0.000   90.758    0.000 /home/clothmanip/robotics/rlkit/rlkit/data_management/future_obs_dict_replay_buffer.py:272(<dictcomp>)\n",
      "   906000   87.601    0.000  120.726    0.000 /home/clothmanip/robotics/rlkit/rlkit/data_management/future_obs_dict_replay_buffer.py:201(<listcomp>)\n",
      "243921148   85.147    0.000  203.878    0.000 {built-in method builtins.any}\n",
      " 19025991   85.100    0.000   85.100    0.000 {method 'zero_' of 'torch._C._TensorBase' objects}\n",
      " 24010416   83.757    0.000 1561.852    0.000 /home/clothmanip/anaconda3/lib/python3.8/site-packages/torch/nn/functional.py:1669(linear)\n",
      "   230000   79.255    0.000   79.255    0.000 {built-in method osc_binding.step_controller}\n",
      " 62514103   77.070    0.000  171.149    0.000 /home/clothmanip/anaconda3/lib/python3.8/site-packages/torch/tensor.py:596(__hash__)\n",
      " 20045604   76.341    0.000   76.341    0.000 {method 'float' of 'torch._C._TensorBase' objects}\n",
      "  3624000   70.674    0.000 2732.675    0.001 /home/clothmanip/anaconda3/lib/python3.8/site-packages/torch/optim/adam.py:55(step)\n",
      "  7564089   70.390    0.000   70.390    0.000 {method 'reduce' of 'numpy.ufunc' objects}\n",
      "   230030   59.635    0.000   59.635    0.000 {mujoco_py.cymj._mj_step1}\n",
      " 24010416   53.344    0.000 1635.063    0.000 /home/clothmanip/anaconda3/lib/python3.8/site-packages/torch/nn/modules/linear.py:92(forward)\n",
      "   230921   52.355    0.000   56.417    0.000 /home/clothmanip/robotics/cloth-manipulation/experiments/envs/cloth.py:349(update_osc_vals)\n",
      "   906000   51.773    0.000 9371.141    0.010 /home/clothmanip/robotics/rlkit/rlkit/torch/sac/sac.py:95(train_from_torch)\n",
      "  3624000   46.700    0.000   46.700    0.000 {method 'sum' of 'torch._C._TensorBase' objects}\n",
      " 10872000   46.161    0.000   46.161    0.000 {method 'copy_' of 'torch._C._TensorBase' objects}\n",
      "303286876/303286873   46.131    0.000   46.131    0.000 {built-in method builtins.len}\n",
      "  5436000   45.912    0.000 1528.461    0.000 /home/clothmanip/robotics/rlkit/rlkit/torch/networks/mlp.py:59(forward)\n",
      "  3624000   44.095    0.000  395.236    0.000 /home/clothmanip/anaconda3/lib/python3.8/site-packages/torch/optim/optimizer.py:167(zero_grad)\n",
      "   929000   44.028    0.000  201.277    0.000 /home/clothmanip/robotics/gym/gym/envs/robotics/reward_calculation.py:10(task_reward_function)\n",
      "   906000   43.508    0.000 9511.942    0.010 /home/clothmanip/robotics/rlkit/rlkit/torch/her/cloth/her.py:48(train_from_torch)\n",
      "  1902604   40.132    0.000  224.376    0.000 /home/clothmanip/robotics/rlkit/rlkit/torch/distributions.py:373(rsample_with_pretanh)\n",
      " 25368023   39.249    0.000  212.533    0.000 /home/clothmanip/anaconda3/lib/python3.8/site-packages/torch/nn/modules/module.py:1055(_named_members)\n",
      "  1812000   38.726    0.000   38.726    0.000 {built-in method torch._C._nn.mse_loss}\n",
      "  5574000   38.127    0.000  133.931    0.000 /home/clothmanip/robotics/gym/gym/envs/robotics/reward_calculation.py:4(goal_distance)\n",
      " 17076796   36.763    0.000   37.017    0.000 {built-in method numpy.array}\n",
      "  1902604   34.737    0.000   34.737    0.000 {built-in method normal}\n",
      "  5597000   33.327    0.000   84.815    0.000 /home/clothmanip/anaconda3/lib/python3.8/site-packages/numpy/linalg/linalg.py:2363(norm)\n",
      "39864036/18120016   31.165    0.000   34.624    0.000 /home/clothmanip/anaconda3/lib/python3.8/site-packages/torch/nn/modules/module.py:1222(named_modules)\n",
      " 57331180   30.978    0.000   30.978    0.000 /home/clothmanip/anaconda3/lib/python3.8/site-packages/torch/nn/modules/module.py:765(__getattr__)\n",
      " 10985604   30.555    0.000   30.555    0.000 {built-in method from_numpy}\n",
      "  1812000   29.569    0.000   29.569    0.000 {method 'mean' of 'torch._C._TensorBase' objects}\n",
      "  3624000   28.584    0.000   28.584    0.000 {built-in method ones_like}\n",
      "   906000   28.558    0.000   57.249    0.000 {method 'randint' of 'numpy.random.mtrand.RandomState' objects}\n",
      "        1   26.511   26.511 73824.349 73824.349 /home/clothmanip/robotics/rlkit/rlkit/core/batch_rl_algorithm.py:64(_train)\n",
      "  1925604   25.872    0.000  771.770    0.000 /home/clothmanip/robotics/rlkit/rlkit/torch/sac/policies/gaussian_policy.py:99(forward)\n",
      "   942282   25.493    0.000   25.493    0.000 {built-in method _pickle.loads}\n",
      " 33184020   24.829    0.000   24.829    0.000 {built-in method torch._C._get_tracing_state}\n",
      "219222189   24.215    0.000   24.215    0.000 {built-in method builtins.getattr}\n",
      "10295571/9067895   23.153    0.000  162.788    0.000 {built-in method numpy.core._multiarray_umath.implement_array_function}\n",
      "  1925604   22.333    0.000   22.333    0.000 {built-in method clamp}\n",
      "  5640208   21.565    0.000   51.370    0.000 /home/clothmanip/anaconda3/lib/python3.8/site-packages/torch/functional.py:42(broadcast_tensors)\n",
      "  1902605   21.462    0.000   21.462    0.000 {built-in method zeros}\n",
      "212458524   21.151    0.000   21.151    0.000 {built-in method torch._C._is_torch_function_enabled}\n",
      "  1925650   20.278    0.000   20.278    0.000 {built-in method tanh}\n",
      " 14723208   19.950    0.000  333.528    0.000 /home/clothmanip/anaconda3/lib/python3.8/site-packages/torch/nn/functional.py:1124(relu)\n",
      "  3828208   18.869    0.000   25.100    0.000 /home/clothmanip/anaconda3/lib/python3.8/site-packages/torch/distributions/independent.py:36(__init__)\n",
      "  1812000   18.698    0.000   18.698    0.000 {built-in method min}\n",
      "   942310   18.621    0.000   18.621    0.000 {built-in method posix.write}\n",
      "  1812000   18.474    0.000   18.474    0.000 {built-in method torch._C._nn.softplus}\n",
      " 10985604   18.244    0.000  125.255    0.000 /home/clothmanip/robotics/rlkit/rlkit/torch/pytorch_util.py:253(from_numpy)\n",
      "  1925604   18.011    0.000   18.011    0.000 {built-in method exp}\n",
      "  5640208   17.934    0.000   17.934    0.000 {built-in method broadcast_tensors}\n",
      "     1196   17.040    0.014   17.040    0.014 {imwrite}\n",
      "  3624000   16.990    0.000 2780.195    0.001 /home/clothmanip/anaconda3/lib/python3.8/site-packages/torch/autograd/grad_mode.py:23(decorate_context)\n",
      "     1196   16.620    0.014   16.620    0.014 {method 'read_pixels' of 'mujoco_py.cymj.MjRenderContext' objects}\n",
      "   291640   16.318    0.000   19.597    0.000 /home/clothmanip/robotics/rlkit/rlkit/pythonplusplus.py:148(list_of_dicts__to__dict_of_lists)\n",
      "  1812000   16.212    0.000   16.212    0.000 {method 'log' of 'torch._C._TensorBase' objects}\n",
      "  5436000   15.711    0.000 1638.991    0.000 /home/clothmanip/robotics/rlkit/rlkit/torch/networks/mlp.py:137(forward)\n",
      "942551/942541   15.179    0.000   15.229    0.000 {method 'dump' of '_pickle.Pickler' objects}\n",
      "  3828208   14.191    0.000   86.778    0.000 /home/clothmanip/anaconda3/lib/python3.8/site-packages/torch/distributions/normal.py:43(__init__)\n",
      "  3624000   13.677    0.000   45.117    0.000 /home/clothmanip/anaconda3/lib/python3.8/site-packages/torch/autograd/__init__.py:28(_make_grads)\n",
      "134169754   13.163    0.000   13.163    0.000 {built-in method builtins.hasattr}\n",
      " 24010416   13.099    0.000   13.099    0.000 /home/clothmanip/anaconda3/lib/python3.8/site-packages/torch/nn/functional.py:1686(<listcomp>)\n",
      "164490291   12.511    0.000   12.511    0.000 {method 'append' of 'list' objects}\n",
      "  3805208   12.132    0.000   12.132    0.000 {method 'expand' of 'torch._C._TensorBase' objects}\n",
      " 25368023   12.043    0.000  234.651    0.000 /home/clothmanip/anaconda3/lib/python3.8/site-packages/torch/nn/modules/module.py:1068(parameters)\n",
      "  3624000   11.752    0.000 2238.745    0.001 /home/clothmanip/anaconda3/lib/python3.8/site-packages/torch/tensor.py:181(backward)\n",
      "132736311   11.628    0.000   11.628    0.000 {method 'values' of 'collections.OrderedDict' objects}\n",
      "   906000   11.511    0.000 9650.878    0.011 /home/clothmanip/robotics/rlkit/rlkit/torch/torch_rl_algorithm.py:48(train)\n",
      "  3828208   11.383    0.000  124.304    0.000 /home/clothmanip/robotics/rlkit/rlkit/torch/distributions.py:156(__init__)\n",
      "  5526668   11.109    0.000   11.856    0.000 /home/clothmanip/anaconda3/lib/python3.8/site-packages/torch/autograd/grad_mode.py:80(__init__)\n",
      "  3624000   11.024    0.000 2226.993    0.001 /home/clothmanip/anaconda3/lib/python3.8/site-packages/torch/autograd/__init__.py:68(backward)\n",
      "  1812000   10.987    0.000   10.987    0.000 {method 'reshape' of 'torch._C._TensorBase' objects}\n",
      " 36269062   10.822    0.000   63.471    0.000 {method 'add' of 'set' objects}\n",
      "\n",
      "\n"
     ]
    },
    {
     "data": {
      "text/plain": [
       "<pstats.Stats at 0x7fdb7c087be0>"
      ]
     },
     "execution_count": 1,
     "metadata": {},
     "output_type": "execute_result"
    }
   ],
   "source": [
    "import pstats\n",
    "from pstats import SortKey\n",
    "KEY = SortKey.TIME\n",
    "print(dir(SortKey))\n",
    "stats_file = \"./profiling/profmain.prof\"\n",
    "p = pstats.Stats(stats_file)\n",
    "p.sort_stats(KEY).print_stats(100)"
   ]
  },
  {
   "cell_type": "code",
   "execution_count": null,
   "metadata": {},
   "outputs": [],
   "source": []
  },
  {
   "cell_type": "code",
   "execution_count": null,
   "metadata": {},
   "outputs": [],
   "source": []
  }
 ],
 "metadata": {
  "kernelspec": {
   "display_name": "Python 3",
   "language": "python",
   "name": "python3"
  },
  "language_info": {
   "codemirror_mode": {
    "name": "ipython",
    "version": 3
   },
   "file_extension": ".py",
   "mimetype": "text/x-python",
   "name": "python",
   "nbconvert_exporter": "python",
   "pygments_lexer": "ipython3",
   "version": "3.8.3"
  },
  "varInspector": {
   "cols": {
    "lenName": 16,
    "lenType": 16,
    "lenVar": 40
   },
   "kernels_config": {
    "python": {
     "delete_cmd_postfix": "",
     "delete_cmd_prefix": "del ",
     "library": "var_list.py",
     "varRefreshCmd": "print(var_dic_list())"
    },
    "r": {
     "delete_cmd_postfix": ") ",
     "delete_cmd_prefix": "rm(",
     "library": "var_list.r",
     "varRefreshCmd": "cat(var_dic_list()) "
    }
   },
   "types_to_exclude": [
    "module",
    "function",
    "builtin_function_or_method",
    "instance",
    "_Feature"
   ],
   "window_display": false
  }
 },
 "nbformat": 4,
 "nbformat_minor": 4
}
