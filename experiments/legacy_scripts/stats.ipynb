{
 "cells": [
  {
   "cell_type": "code",
   "execution_count": 2,
   "metadata": {},
   "outputs": [
    {
     "name": "stdout",
     "output_type": "stream",
     "text": [
      "['CALLS', 'CUMULATIVE', 'FILENAME', 'LINE', 'NAME', 'NFL', 'PCALLS', 'STDNAME', 'TIME', '__class__', '__doc__', '__members__', '__module__']\n",
      "Thu Aug  5 10:58:54 2021    /home/clothmanip/robotics/clothmanip/experiments/trainings/timedebug-run-0/profiling/prof4.prof-08-05\n",
      "\n",
      "         23214579 function calls (22685310 primitive calls) in 892.885 seconds\n",
      "\n",
      "   Ordered by: internal time\n",
      "   List reduced from 1936 to 100 due to restriction <100>\n",
      "\n",
      "   ncalls  tottime  percall  cumtime  percall filename:lineno(function)\n",
      "     4370  543.576    0.124  543.576    0.124 {built-in method posix.read}\n",
      "    23550  159.511    0.007  159.511    0.007 {mujoco_py.cymj._mj_step2}\n",
      "      170   71.243    0.419   71.551    0.421 {mujoco_py.cymj.load_model_from_xml}\n",
      "       85   24.439    0.288  136.040    1.600 /home/clothmanip/robotics/clothmanip/clothmanip/envs/cloth.py:303(setup_initial_state_and_sim)\n",
      "       85   16.407    0.193   16.407    0.193 {built-in method gc.collect}\n",
      "    21253   10.391    0.000   11.532    0.001 /home/clothmanip/robotics/clothmanip/clothmanip/envs/cloth.py:486(update_osc_values)\n",
      "    23550    9.557    0.000    9.557    0.000 {mujoco_py.cymj._mj_step1}\n",
      "     2269    7.337    0.003    7.341    0.003 {method 'render' of 'mujoco_py.cymj.MjRenderContext' objects}\n",
      "     1135    5.851    0.005    5.851    0.005 {GaussianBlur}\n",
      "       85    5.771    0.068    5.846    0.069 /home/clothmanip/robotics/clothmanip/clothmanip/envs/cloth.py:256(setup_viewer)\n",
      "      168    5.145    0.031    5.145    0.031 {method 'reset' of 'mujoco_py.cymj.MjSim' objects}\n",
      "  2703734    3.674    0.000    3.683    0.000 {built-in method numpy.array}\n",
      "     2100    2.740    0.001    2.784    0.001 /home/clothmanip/anaconda3/envs/domain_rand_env/lib/python3.8/site-packages/numpy/linalg/linalg.py:476(inv)\n",
      "       85    2.340    0.028    2.381    0.028 {method 'get_xml' of 'mujoco_py.cymj.PyMjModel' objects}\n",
      "     2269    2.295    0.001    2.295    0.001 {method 'read_pixels' of 'mujoco_py.cymj.MjRenderContext' objects}\n",
      "     4368    1.364    0.000    1.364    0.000 {built-in method posix.write}\n",
      "    21000    1.328    0.000    1.328    0.000 {built-in method osc_binding.step_controller}\n",
      "     1186    1.253    0.001    1.253    0.001 {method 'forward' of 'mujoco_py.cymj.MjSim' objects}\n",
      "     2100    1.210    0.001  198.171    0.094 /home/clothmanip/robotics/clothmanip/clothmanip/envs/cloth.py:385(step)\n",
      "   150180    1.156    0.000    2.740    0.000 /home/clothmanip/anaconda3/envs/domain_rand_env/lib/python3.8/xml/dom/expatbuilder.py:736(start_element_handler)\n",
      "149833/87    0.866    0.000    2.386    0.027 /home/clothmanip/anaconda3/envs/domain_rand_env/lib/python3.8/xml/dom/minidom.py:850(writexml)\n",
      "    21000    0.815    0.000  179.043    0.009 /home/clothmanip/robotics/clothmanip/clothmanip/envs/cloth.py:376(step_env)\n",
      "       87    0.681    0.008    4.007    0.046 {method 'Parse' of 'pyexpat.xmlparser' objects}\n",
      "   471741    0.598    0.000    0.838    0.000 /home/clothmanip/anaconda3/envs/domain_rand_env/lib/python3.8/xml/dom/minidom.py:354(__init__)\n",
      "    21253    0.591    0.000    0.591    0.000 {mujoco_py.cymj._mj_fullM}\n",
      "  2665527    0.489    0.000    4.045    0.000 /home/clothmanip/anaconda3/envs/domain_rand_env/lib/python3.8/site-packages/numpy/core/_asarray.py:23(asarray)\n",
      "   648923    0.471    0.000    0.807    0.000 /home/clothmanip/anaconda3/envs/domain_rand_env/lib/python3.8/xml/dom/minidom.py:302(_write_data)\n",
      "   298718    0.407    0.000    0.407    0.000 {method 'copy' of 'numpy.generic' objects}\n",
      "     2184    0.405    0.000    0.406    0.000 {method 'dump' of '_pickle.Pickler' objects}\n",
      "   471741    0.332    0.000    0.440    0.000 /home/clothmanip/anaconda3/envs/domain_rand_env/lib/python3.8/xml/dom/minidom.py:389(_set_value)\n",
      "150830/108011    0.290    0.000    4.549    0.000 {built-in method numpy.core._multiarray_umath.implement_array_function}\n",
      "  2596027    0.279    0.000    0.279    0.000 {method 'replace' of 'str' objects}\n",
      "   650498    0.269    0.000    0.269    0.000 /home/clothmanip/anaconda3/envs/domain_rand_env/lib/python3.8/xml/dom/minidom.py:995(__init__)\n",
      "   178757    0.261    0.000    0.466    0.000 /home/clothmanip/anaconda3/envs/domain_rand_env/lib/python3.8/xml/dom/expatbuilder.py:274(character_data_handler_cdata)\n",
      "    27720    0.260    0.000    0.492    0.000 /home/clothmanip/anaconda3/envs/domain_rand_env/lib/python3.8/site-packages/numpy/linalg/linalg.py:2362(norm)\n",
      "    10113    0.225    0.000    0.225    0.000 {cvtColor}\n",
      "     2100    0.214    0.000    0.361    0.000 /home/clothmanip/robotics/clothmanip/clothmanip/envs/cloth.py:767(get_corner_image_positions)\n",
      "    30029    0.213    0.000    0.213    0.000 {method 'reduce' of 'numpy.ufunc' objects}\n",
      "     7862    0.202    0.000    0.202    0.000 {LUT}\n",
      "     2100    0.196    0.000    0.678    0.000 /home/clothmanip/robotics/clothmanip/clothmanip/utils/reward_calculation.py:10(task_reward_function)\n",
      "803340/803254    0.184    0.000    0.256    0.000 {built-in method builtins.isinstance}\n",
      "  1976451    0.166    0.000    0.166    0.000 {method 'write' of '_io.StringIO' objects}\n",
      "     2269    0.161    0.000    0.733    0.000 /home/clothmanip/robotics/clothmanip/clothmanip/envs/cloth.py:652(get_obs)\n",
      "   328941    0.157    0.000    0.192    0.000 /home/clothmanip/anaconda3/envs/domain_rand_env/lib/python3.8/xml/dom/minidom.py:284(_append_child)\n",
      "     2269    0.157    0.000   17.581    0.008 /home/clothmanip/robotics/clothmanip/clothmanip/envs/cloth.py:615(get_image_obs)\n",
      "    20421    0.154    0.000    0.234    0.000 {method 'get_site_xvelp' of 'mujoco_py.cymj.PyMjData' objects}\n",
      "    36969    0.140    0.000    0.140    0.000 {method 'flatten' of 'numpy.ndarray' objects}\n",
      "    26094    0.139    0.000    0.287    0.000 /home/clothmanip/anaconda3/envs/domain_rand_env/lib/python3.8/site-packages/numpy/core/_methods.py:90(_clip_dep_is_scalar_nan)\n",
      "   178757    0.133    0.000    0.369    0.000 /home/clothmanip/anaconda3/envs/domain_rand_env/lib/python3.8/xml/dom/minidom.py:1088(writexml)\n",
      "  1122239    0.130    0.000    0.130    0.000 /home/clothmanip/anaconda3/envs/domain_rand_env/lib/python3.8/xml/dom/minidom.py:1007(_set_data)\n",
      "325444/86    0.128    0.000    0.129    0.001 /home/clothmanip/anaconda3/envs/domain_rand_env/lib/python3.8/xml/dom/minidom.py:309(_get_elements_by_tagName_helper)\n",
      "     2100    0.124    0.000    0.320    0.000 /home/clothmanip/robotics/clothmanip/clothmanip/envs/cloth.py:434(get_corner_constraint_distances)\n",
      "    21000    0.120    0.000    1.617    0.000 /home/clothmanip/robotics/clothmanip/clothmanip/envs/cloth.py:356(run_controller)\n",
      "   470166    0.118    0.000    0.165    0.000 /home/clothmanip/anaconda3/envs/domain_rand_env/lib/python3.8/xml/dom/minidom.py:548(__getitem__)\n",
      "   299673    0.115    0.000    0.115    0.000 /home/clothmanip/anaconda3/envs/domain_rand_env/lib/python3.8/xml/dom/minidom.py:698(_ensure_attributes)\n",
      "    55703    0.115    0.000    0.115    0.000 {built-in method numpy.zeros}\n",
      "   150184    0.115    0.000    0.115    0.000 /home/clothmanip/anaconda3/envs/domain_rand_env/lib/python3.8/xml/dom/minidom.py:678(__init__)\n",
      "   102357    0.112    0.000    0.112    0.000 {method 'copy' of 'numpy.ndarray' objects}\n",
      "    13047    0.112    0.000    0.112    0.000 /home/clothmanip/anaconda3/envs/domain_rand_env/lib/python3.8/site-packages/numpy/core/_methods.py:105(_clip_dep_invoke_with_casting)\n",
      "   149833    0.103    0.000    0.161    0.000 /home/clothmanip/anaconda3/envs/domain_rand_env/lib/python3.8/xml/dom/minidom.py:877(_get_attributes)\n",
      "  1032392    0.103    0.000    0.103    0.000 {method 'append' of 'list' objects}\n",
      "   150180    0.099    0.000    0.120    0.000 /home/clothmanip/anaconda3/envs/domain_rand_env/lib/python3.8/xml/dom/expatbuilder.py:789(end_element_handler)\n",
      "     7418    0.095    0.000    0.241    0.000 /home/clothmanip/anaconda3/envs/domain_rand_env/lib/python3.8/site-packages/numpy/core/_methods.py:161(_mean)\n",
      "       85    0.089    0.001    0.226    0.003 {method 'read' of 'pandas._libs.parsers.TextReader' objects}\n",
      "    33423    0.084    0.000    0.084    0.000 {method 'reshape' of 'numpy.ndarray' objects}\n",
      "       87    0.084    0.001    0.214    0.002 /home/clothmanip/robotics/mujoco-py/mujoco_py/utils.py:34(remove_empty_lines)\n",
      "     2269    0.079    0.000    7.531    0.003 /home/clothmanip/anaconda3/envs/domain_rand_env/lib/python3.8/site-packages/albumentations/core/composition.py:163(__call__)\n",
      "     2439    0.075    0.000    0.075    0.000 {method '__deepcopy__' of 'numpy.ndarray' objects}\n",
      "    21000    0.073    0.000    0.073    0.000 {method 'get_geom_xpos' of 'mujoco_py.cymj.PyMjData' objects}\n",
      "   264448    0.072    0.000    0.073    0.000 {built-in method builtins.getattr}\n",
      "     2386    0.072    0.000    0.072    0.000 {built-in method io.open}\n",
      "     2269    0.072    0.000    0.101    0.000 /home/clothmanip/robotics/clothmanip/clothmanip/envs/cloth.py:588(get_cloth_position_I)\n",
      "     2189    0.070    0.000    0.071    0.000 {built-in method _pickle.loads}\n",
      "    21253    0.069    0.000    0.069    0.000 {mujoco_py.cymj._mj_jacSite}\n",
      "     2100    0.066    0.000  198.333    0.094 /home/clothmanip/robotics/rlkit/rlkit/envs/wrappers/normalized_box_env.py:48(step)\n",
      "     2100    0.064    0.000    1.385    0.001 /home/clothmanip/robotics/clothmanip/clothmanip/envs/cloth.py:446(post_action)\n",
      "      354    0.063    0.000    0.063    0.000 {method 'splitlines' of 'str' objects}\n",
      "       88    0.062    0.001    0.062    0.001 {method 'getvalue' of '_io.StringIO' objects}\n",
      "    13047    0.062    0.000    0.501    0.000 /home/clothmanip/anaconda3/envs/domain_rand_env/lib/python3.8/site-packages/numpy/core/_methods.py:124(_clip)\n",
      "     5655    0.062    0.000    7.273    0.001 /home/clothmanip/anaconda3/envs/domain_rand_env/lib/python3.8/site-packages/albumentations/core/transforms_interface.py:94(apply_with_params)\n",
      "    64618    0.062    0.000    0.062    0.000 {method 'get_site_xpos' of 'mujoco_py.cymj.PyMjData' objects}\n",
      "277873/272516    0.061    0.000    0.064    0.000 {built-in method builtins.len}\n",
      "     1132    0.060    0.000    0.404    0.000 /home/clothmanip/anaconda3/envs/domain_rand_env/lib/python3.8/site-packages/albumentations/augmentations/functional.py:514(_shift_rgb_uint8)\n",
      "     1152    0.059    0.000    0.059    0.000 {blur}\n",
      "     9925    0.057    0.000    0.134    0.000 /home/clothmanip/anaconda3/envs/domain_rand_env/lib/python3.8/site-packages/numpy/core/fromnumeric.py:70(_wrapreduction)\n",
      "     2100    0.055    0.000    2.910    0.001 /home/clothmanip/robotics/clothmanip/clothmanip/envs/cloth.py:791(get_camera_matrices)\n",
      "   478726    0.055    0.000    0.055    0.000 /home/clothmanip/anaconda3/envs/domain_rand_env/lib/python3.8/xml/dom/minidom.py:386(_get_value)\n",
      "    12600    0.055    0.000    0.352    0.000 /home/clothmanip/robotics/clothmanip/clothmanip/utils/reward_calculation.py:4(goal_distance)\n",
      "     7418    0.052    0.000    0.057    0.000 /home/clothmanip/anaconda3/envs/domain_rand_env/lib/python3.8/site-packages/numpy/core/_methods.py:65(_count_reduce_items)\n",
      "     2016    0.052    0.000    0.319    0.000 /home/clothmanip/anaconda3/envs/domain_rand_env/lib/python3.8/site-packages/scipy/spatial/distance.py:683(correlation)\n",
      "    11345    0.050    0.000    7.421    0.001 /home/clothmanip/anaconda3/envs/domain_rand_env/lib/python3.8/site-packages/albumentations/core/transforms_interface.py:64(__call__)\n",
      "   536562    0.049    0.000    0.049    0.000 {method 'strip' of 'str' objects}\n",
      "    26094    0.047    0.000    0.093    0.000 /home/clothmanip/anaconda3/envs/domain_rand_env/lib/python3.8/site-packages/numpy/core/fromnumeric.py:3106(ndim)\n",
      "     9551    0.047    0.000    0.047    0.000 {method 'uniform' of 'numpy.random.mtrand.RandomState' objects}\n",
      "    35541    0.046    0.000    0.152    0.000 <__array_function__ internals>:2(dot)\n",
      "    27720    0.046    0.000    0.580    0.000 <__array_function__ internals>:2(norm)\n",
      "    16593    0.046    0.000    0.046    0.000 {method 'astype' of 'numpy.ndarray' objects}\n",
      "     3396    0.046    0.000    0.337    0.000 /home/clothmanip/anaconda3/envs/domain_rand_env/lib/python3.8/site-packages/albumentations/augmentations/functional.py:504(_shift_image_uint8)\n",
      "   136255    0.045    0.000    0.070    0.000 /home/clothmanip/anaconda3/envs/domain_rand_env/lib/python3.8/site-packages/pandas/core/dtypes/generic.py:30(_check)\n",
      "     9099    0.044    0.000    0.044    0.000 {built-in method numpy.arange}\n",
      "\n",
      "\n"
     ]
    },
    {
     "data": {
      "text/plain": [
       "<pstats.Stats at 0x7f1d38d60700>"
      ]
     },
     "execution_count": 2,
     "metadata": {},
     "output_type": "execute_result"
    }
   ],
   "source": [
    "import pstats\n",
    "from pstats import SortKey\n",
    "KEY = SortKey.TIME\n",
    "print(dir(SortKey))\n",
    "stats_file = \"/home/clothmanip/robotics/clothmanip/experiments/trainings/timedebug-run-0/profiling/prof4.prof-08-05\"\n",
    "p = pstats.Stats(stats_file)\n",
    "p.sort_stats(KEY).print_stats(100)"
   ]
  },
  {
   "cell_type": "code",
   "execution_count": null,
   "metadata": {},
   "outputs": [],
   "source": []
  },
  {
   "cell_type": "code",
   "execution_count": null,
   "metadata": {},
   "outputs": [],
   "source": []
  }
 ],
 "metadata": {
  "kernelspec": {
   "display_name": "Python 3 (ipykernel)",
   "language": "python",
   "name": "python3"
  },
  "language_info": {
   "codemirror_mode": {
    "name": "ipython",
    "version": 3
   },
   "file_extension": ".py",
   "mimetype": "text/x-python",
   "name": "python",
   "nbconvert_exporter": "python",
   "pygments_lexer": "ipython3",
   "version": "3.8.5"
  },
  "varInspector": {
   "cols": {
    "lenName": 16,
    "lenType": 16,
    "lenVar": 40
   },
   "kernels_config": {
    "python": {
     "delete_cmd_postfix": "",
     "delete_cmd_prefix": "del ",
     "library": "var_list.py",
     "varRefreshCmd": "print(var_dic_list())"
    },
    "r": {
     "delete_cmd_postfix": ") ",
     "delete_cmd_prefix": "rm(",
     "library": "var_list.r",
     "varRefreshCmd": "cat(var_dic_list()) "
    }
   },
   "types_to_exclude": [
    "module",
    "function",
    "builtin_function_or_method",
    "instance",
    "_Feature"
   ],
   "window_display": false
  }
 },
 "nbformat": 4,
 "nbformat_minor": 4
}
